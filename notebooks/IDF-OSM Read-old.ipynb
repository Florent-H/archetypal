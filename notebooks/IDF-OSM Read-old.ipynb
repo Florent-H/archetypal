{
 "cells": [
  {
   "cell_type": "code",
   "execution_count": 5,
   "metadata": {},
   "outputs": [],
   "source": [
    "import logging\n",
    "from eppy.modeleditor import IDF\n",
    "import glob\n",
    "import pandas as pd\n",
    "import numpy as np\n",
    "import pyumi as pu"
   ]
  },
  {
   "cell_type": "code",
   "execution_count": 6,
   "metadata": {},
   "outputs": [
    {
     "data": {
      "text/plain": [
       "['data/necb/NECB_2011_Montreal_idf\\\\NECB 2011-FullServiceRestaurant-NECB HDD Method-CAN_PQ_Montreal.Intl.AP.716270_CWEC.epw.idf',\n",
       " 'data/necb/NECB_2011_Montreal_idf\\\\NECB 2011-HighriseApartment-NECB HDD Method-CAN_PQ_Montreal.Intl.AP.716270_CWEC.epw.idf',\n",
       " 'data/necb/NECB_2011_Montreal_idf\\\\NECB 2011-Hospital-NECB HDD Method-CAN_PQ_Montreal.Intl.AP.716270_CWEC.epw.idf',\n",
       " 'data/necb/NECB_2011_Montreal_idf\\\\NECB 2011-PrimarySchool-NECB HDD Method-CAN_PQ_Montreal.Intl.AP.716270_CWEC.epw.idf']"
      ]
     },
     "execution_count": 6,
     "metadata": {},
     "output_type": "execute_result"
    }
   ],
   "source": [
    "files = glob.glob(\"data/necb/NECB_2011_Montreal_idf/*.idf\")\n",
    "files"
   ]
  },
  {
   "cell_type": "code",
   "execution_count": 7,
   "metadata": {},
   "outputs": [],
   "source": [
    "logging.info(\"start\")"
   ]
  },
  {
   "cell_type": "code",
   "execution_count": 8,
   "metadata": {},
   "outputs": [],
   "source": [
    "idfs = []\n",
    "# Windows\n",
    "iddfile = \"C:\\openstudio-2.5.2\\EnergyPlus\\Energy+.idd\"\n",
    "# Mac\n",
    "# iddfile = \"/Applications/OpenStudio-2.5.0/EnergyPlus/Energy+.idd\"\n",
    "epw = 'CAN_PQ_Montreal.Intl.AP.716270_CWEC.epw'\n",
    "IDF.setiddname(iddfile)\n",
    "for file in files:\n",
    "    idfs.append(IDF(file, epw))"
   ]
  },
  {
   "cell_type": "code",
   "execution_count": 9,
   "metadata": {},
   "outputs": [],
   "source": [
    "keys = [idf.idfobjects['BUILDING'].list2[0][1] for idf in idfs]"
   ]
  },
  {
   "cell_type": "markdown",
   "metadata": {},
   "source": [
    "## GasMaterials"
   ]
  },
  {
   "cell_type": "code",
   "execution_count": 10,
   "metadata": {},
   "outputs": [],
   "source": [
    "GasMaterials = pu.parse_idfs(idfs, 'WINDOWMATERIAL:GAS', keys)"
   ]
  },
  {
   "cell_type": "code",
   "execution_count": 11,
   "metadata": {},
   "outputs": [],
   "source": [
    "GasMaterials['Cost'] = 0\n",
    "GasMaterials['EmbodiedCarbon'] = 0\n",
    "GasMaterials['EmbodiedCarbonStdDev'] = 0\n",
    "GasMaterials['EmbodiedEnergy'] = 0\n",
    "GasMaterials['EmbodiedEnergyStdDev'] = 0\n",
    "GasMaterials['SubstitutionRatePattern'] = np.NaN # ! Might have to change to an empty array\n",
    "GasMaterials['SubstitutionTimestep'] = 0\n",
    "GasMaterials['TransportCarbon'] = 0\n",
    "GasMaterials['TransportDistance'] = 0\n",
    "GasMaterials['TransportEnergy'] = 0"
   ]
  },
  {
   "cell_type": "code",
   "execution_count": 12,
   "metadata": {},
   "outputs": [],
   "source": [
    "def gas_type(row):\n",
    "    if 'air' in row['Gas_Type'].lower():\n",
    "        return 0\n",
    "    elif 'argon' in row['Gas_Type']:\n",
    "        return 1\n",
    "    elif 'krypton' in row['Gas_Type'].lower():\n",
    "        return 2\n",
    "    elif 'xenon' in row['Gas_Type'].lower():\n",
    "        return 3\n",
    "    elif 'sf6' in row['Gas_Type'].lower():\n",
    "        return 4"
   ]
  },
  {
   "cell_type": "code",
   "execution_count": 13,
   "metadata": {},
   "outputs": [],
   "source": [
    "# Add GasType Column based on previous function\n",
    "GasMaterials['GasType'] = GasMaterials.apply(lambda x: gas_type(x), axis=1)"
   ]
  },
  {
   "cell_type": "code",
   "execution_count": 14,
   "metadata": {},
   "outputs": [],
   "source": [
    "# Remove unnecessary columns\n",
    "GasMaterials.drop(['key','Gas_Type', 'Thickness'], axis=1, inplace=True)"
   ]
  },
  {
   "cell_type": "code",
   "execution_count": 15,
   "metadata": {},
   "outputs": [
    {
     "data": {
      "text/html": [
       "<div>\n",
       "<style scoped>\n",
       "    .dataframe tbody tr th:only-of-type {\n",
       "        vertical-align: middle;\n",
       "    }\n",
       "\n",
       "    .dataframe tbody tr th {\n",
       "        vertical-align: top;\n",
       "    }\n",
       "\n",
       "    .dataframe thead th {\n",
       "        text-align: right;\n",
       "    }\n",
       "</style>\n",
       "<table border=\"1\" class=\"dataframe\">\n",
       "  <thead>\n",
       "    <tr style=\"text-align: right;\">\n",
       "      <th></th>\n",
       "      <th>Name</th>\n",
       "      <th>Archetype</th>\n",
       "      <th>Cost</th>\n",
       "      <th>EmbodiedCarbon</th>\n",
       "      <th>EmbodiedCarbonStdDev</th>\n",
       "      <th>EmbodiedEnergy</th>\n",
       "      <th>EmbodiedEnergyStdDev</th>\n",
       "      <th>SubstitutionRatePattern</th>\n",
       "      <th>SubstitutionTimestep</th>\n",
       "      <th>TransportCarbon</th>\n",
       "      <th>TransportDistance</th>\n",
       "      <th>TransportEnergy</th>\n",
       "      <th>GasType</th>\n",
       "    </tr>\n",
       "    <tr>\n",
       "      <th>$id</th>\n",
       "      <th></th>\n",
       "      <th></th>\n",
       "      <th></th>\n",
       "      <th></th>\n",
       "      <th></th>\n",
       "      <th></th>\n",
       "      <th></th>\n",
       "      <th></th>\n",
       "      <th></th>\n",
       "      <th></th>\n",
       "      <th></th>\n",
       "      <th></th>\n",
       "      <th></th>\n",
       "    </tr>\n",
       "  </thead>\n",
       "  <tbody>\n",
       "    <tr>\n",
       "      <th>0</th>\n",
       "      <td>AIR 13MM</td>\n",
       "      <td>NECB 2011-FullServiceRestaurant-NECB HDD Metho...</td>\n",
       "      <td>0</td>\n",
       "      <td>0</td>\n",
       "      <td>0</td>\n",
       "      <td>0</td>\n",
       "      <td>0</td>\n",
       "      <td>NaN</td>\n",
       "      <td>0</td>\n",
       "      <td>0</td>\n",
       "      <td>0</td>\n",
       "      <td>0</td>\n",
       "      <td>0</td>\n",
       "    </tr>\n",
       "    <tr>\n",
       "      <th>1</th>\n",
       "      <td>AIR 6MM</td>\n",
       "      <td>NECB 2011-FullServiceRestaurant-NECB HDD Metho...</td>\n",
       "      <td>0</td>\n",
       "      <td>0</td>\n",
       "      <td>0</td>\n",
       "      <td>0</td>\n",
       "      <td>0</td>\n",
       "      <td>NaN</td>\n",
       "      <td>0</td>\n",
       "      <td>0</td>\n",
       "      <td>0</td>\n",
       "      <td>0</td>\n",
       "      <td>0</td>\n",
       "    </tr>\n",
       "  </tbody>\n",
       "</table>\n",
       "</div>"
      ],
      "text/plain": [
       "         Name                                          Archetype  Cost  \\\n",
       "$id                                                                      \n",
       "0    AIR 13MM  NECB 2011-FullServiceRestaurant-NECB HDD Metho...     0   \n",
       "1     AIR 6MM  NECB 2011-FullServiceRestaurant-NECB HDD Metho...     0   \n",
       "\n",
       "     EmbodiedCarbon  EmbodiedCarbonStdDev  EmbodiedEnergy  \\\n",
       "$id                                                         \n",
       "0                 0                     0               0   \n",
       "1                 0                     0               0   \n",
       "\n",
       "     EmbodiedEnergyStdDev  SubstitutionRatePattern  SubstitutionTimestep  \\\n",
       "$id                                                                        \n",
       "0                       0                      NaN                     0   \n",
       "1                       0                      NaN                     0   \n",
       "\n",
       "     TransportCarbon  TransportDistance  TransportEnergy  GasType  \n",
       "$id                                                                \n",
       "0                  0                  0                0        0  \n",
       "1                  0                  0                0        0  "
      ]
     },
     "execution_count": 15,
     "metadata": {},
     "output_type": "execute_result"
    }
   ],
   "source": [
    "GasMaterials"
   ]
  },
  {
   "cell_type": "code",
   "execution_count": 16,
   "metadata": {},
   "outputs": [],
   "source": [
    "def newrange(previous, following):\n",
    "    From = previous.iloc[[-1]].index.values + 1\n",
    "    To = From + len(following)\n",
    "    return np.arange(From, To)"
   ]
  },
  {
   "cell_type": "markdown",
   "metadata": {},
   "source": [
    "## GlazingMaterials"
   ]
  },
  {
   "cell_type": "markdown",
   "metadata": {},
   "source": [
    "#### WindowMaterial"
   ]
  },
  {
   "cell_type": "code",
   "execution_count": 17,
   "metadata": {},
   "outputs": [],
   "source": [
    "WindowMaterial_Glazing = pu.parse_idfs(idfs, 'WINDOWMATERIAL:GLAZING', keys)"
   ]
  },
  {
   "cell_type": "code",
   "execution_count": 18,
   "metadata": {},
   "outputs": [],
   "source": [
    "column_rename = {'Optical_Data_Type':'Optical',\n",
    "                'Window_Glass_Spectral_Data_Set_Name':'OpticalData',\n",
    "                'Solar_Transmittance_at_Normal_Incidence':'SolarTransmittance',\n",
    "                'Front_Side_Solar_Reflectance_at_Normal_Incidence':'SolarReflectanceFront',\n",
    "                'Back_Side_Solar_Reflectance_at_Normal_Incidence':'SolarReflectanceBack',\n",
    "                'Infrared_Transmittance_at_Normal_Incidence':'IRTransmittance',\n",
    "                'Visible_Transmittance_at_Normal_Incidence':'VisibleTransmittance',\n",
    "                'Front_Side_Visible_Reflectance_at_Normal_Incidence':'VisibleReflectanceFront',\n",
    "                'Back_Side_Visible_Reflectance_at_Normal_Incidence':'VisibleReflectanceBack',\n",
    "                'Front_Side_Infrared_Hemispherical_Emissivity':'IREmissivityFront',\n",
    "                'Back_Side_Infrared_Hemispherical_Emissivity':'IREmissivityBack',\n",
    "                'Dirt_Correction_Factor_for_Solar_and_Visible_Transmittance':'DirtFactor'}"
   ]
  },
  {
   "cell_type": "code",
   "execution_count": 20,
   "metadata": {},
   "outputs": [],
   "source": [
    "GlazingMaterials = WindowMaterial_Glazing\n",
    "GlazingMaterials.rename(columns=column_rename, inplace=True)\n",
    "GlazingMaterials = GlazingMaterials.drop(['key', 'Solar_Diffusing'], axis=1)\n",
    "GlazingMaterials['Comment'] = 'default'\n",
    "GlazingMaterials['Cost'] = 0\n",
    "GlazingMaterials['DataSource'] = np.NaN\n",
    "GlazingMaterials['Density'] = 2500\n",
    "GlazingMaterials['EmbodiedCarbon'] = 0\n",
    "GlazingMaterials['EmbodiedCarbonStdDev'] = 0\n",
    "GlazingMaterials['EmbodiedEnergy'] = 0\n",
    "GlazingMaterials['EmbodiedEnergyStdDev'] = 0\n",
    "GlazingMaterials['Life'] = 1\n",
    "GlazingMaterials['SubstitutionRatePattern'] = np.NaN # ! Might have to change to an empty array\n",
    "GlazingMaterials['SubstitutionTimestep'] = 0\n",
    "GlazingMaterials['TransportCarbon'] = 0\n",
    "GlazingMaterials['TransportDistance'] = 0\n",
    "GlazingMaterials['TransportEnergy'] = 0\n",
    "GlazingMaterials['Type'] = 'Uncoated' # TODO Further investigation necessary"
   ]
  },
  {
   "cell_type": "code",
   "execution_count": 21,
   "metadata": {},
   "outputs": [
    {
     "data": {
      "text/html": [
       "<div>\n",
       "<style scoped>\n",
       "    .dataframe tbody tr th:only-of-type {\n",
       "        vertical-align: middle;\n",
       "    }\n",
       "\n",
       "    .dataframe tbody tr th {\n",
       "        vertical-align: top;\n",
       "    }\n",
       "\n",
       "    .dataframe thead th {\n",
       "        text-align: right;\n",
       "    }\n",
       "</style>\n",
       "<table border=\"1\" class=\"dataframe\">\n",
       "  <thead>\n",
       "    <tr style=\"text-align: right;\">\n",
       "      <th></th>\n",
       "      <th>Name</th>\n",
       "      <th>Archetype</th>\n",
       "      <th>IREmissivityBack</th>\n",
       "      <th>SolarReflectanceBack</th>\n",
       "      <th>VisibleReflectanceBack</th>\n",
       "      <th>Conductivity</th>\n",
       "      <th>DirtFactor</th>\n",
       "      <th>IREmissivityFront</th>\n",
       "      <th>SolarReflectanceFront</th>\n",
       "      <th>VisibleReflectanceFront</th>\n",
       "      <th>...</th>\n",
       "      <th>EmbodiedCarbonStdDev</th>\n",
       "      <th>EmbodiedEnergy</th>\n",
       "      <th>EmbodiedEnergyStdDev</th>\n",
       "      <th>Life</th>\n",
       "      <th>SubstitutionRatePattern</th>\n",
       "      <th>SubstitutionTimestep</th>\n",
       "      <th>TransportCarbon</th>\n",
       "      <th>TransportDistance</th>\n",
       "      <th>TransportEnergy</th>\n",
       "      <th>Type</th>\n",
       "    </tr>\n",
       "    <tr>\n",
       "      <th>$id</th>\n",
       "      <th></th>\n",
       "      <th></th>\n",
       "      <th></th>\n",
       "      <th></th>\n",
       "      <th></th>\n",
       "      <th></th>\n",
       "      <th></th>\n",
       "      <th></th>\n",
       "      <th></th>\n",
       "      <th></th>\n",
       "      <th></th>\n",
       "      <th></th>\n",
       "      <th></th>\n",
       "      <th></th>\n",
       "      <th></th>\n",
       "      <th></th>\n",
       "      <th></th>\n",
       "      <th></th>\n",
       "      <th></th>\n",
       "      <th></th>\n",
       "      <th></th>\n",
       "    </tr>\n",
       "  </thead>\n",
       "  <tbody>\n",
       "    <tr>\n",
       "      <th>0</th>\n",
       "      <td>CLEAR 6MM</td>\n",
       "      <td>NECB 2011-FullServiceRestaurant-NECB HDD Metho...</td>\n",
       "      <td>0.840</td>\n",
       "      <td>0.071</td>\n",
       "      <td>0.080</td>\n",
       "      <td>0.9000</td>\n",
       "      <td>1.0</td>\n",
       "      <td>0.840</td>\n",
       "      <td>0.0710</td>\n",
       "      <td>0.0800</td>\n",
       "      <td>...</td>\n",
       "      <td>0</td>\n",
       "      <td>0</td>\n",
       "      <td>0</td>\n",
       "      <td>1</td>\n",
       "      <td>NaN</td>\n",
       "      <td>0</td>\n",
       "      <td>0</td>\n",
       "      <td>0</td>\n",
       "      <td>0</td>\n",
       "      <td>Uncoated</td>\n",
       "    </tr>\n",
       "    <tr>\n",
       "      <th>1</th>\n",
       "      <td>Clear 3mm</td>\n",
       "      <td>NECB 2011-FullServiceRestaurant-NECB HDD Metho...</td>\n",
       "      <td>0.840</td>\n",
       "      <td>0.075</td>\n",
       "      <td>0.081</td>\n",
       "      <td>0.9000</td>\n",
       "      <td>1.0</td>\n",
       "      <td>0.840</td>\n",
       "      <td>0.0750</td>\n",
       "      <td>0.0810</td>\n",
       "      <td>...</td>\n",
       "      <td>0</td>\n",
       "      <td>0</td>\n",
       "      <td>0</td>\n",
       "      <td>1</td>\n",
       "      <td>NaN</td>\n",
       "      <td>0</td>\n",
       "      <td>0</td>\n",
       "      <td>0</td>\n",
       "      <td>0</td>\n",
       "      <td>Uncoated</td>\n",
       "    </tr>\n",
       "    <tr>\n",
       "      <th>2</th>\n",
       "      <td>LoE TINT 6MM</td>\n",
       "      <td>NECB 2011-FullServiceRestaurant-NECB HDD Metho...</td>\n",
       "      <td>0.100</td>\n",
       "      <td>0.200</td>\n",
       "      <td>0.054</td>\n",
       "      <td>0.9000</td>\n",
       "      <td>1.0</td>\n",
       "      <td>0.840</td>\n",
       "      <td>0.0930</td>\n",
       "      <td>0.0350</td>\n",
       "      <td>...</td>\n",
       "      <td>0</td>\n",
       "      <td>0</td>\n",
       "      <td>0</td>\n",
       "      <td>1</td>\n",
       "      <td>NaN</td>\n",
       "      <td>0</td>\n",
       "      <td>0</td>\n",
       "      <td>0</td>\n",
       "      <td>0</td>\n",
       "      <td>Uncoated</td>\n",
       "    </tr>\n",
       "    <tr>\n",
       "      <th>3</th>\n",
       "      <td>REF D CLEAR 6MM</td>\n",
       "      <td>NECB 2011-FullServiceRestaurant-NECB HDD Metho...</td>\n",
       "      <td>0.820</td>\n",
       "      <td>0.379</td>\n",
       "      <td>0.505</td>\n",
       "      <td>0.9000</td>\n",
       "      <td>1.0</td>\n",
       "      <td>0.840</td>\n",
       "      <td>0.3080</td>\n",
       "      <td>0.4530</td>\n",
       "      <td>...</td>\n",
       "      <td>0</td>\n",
       "      <td>0</td>\n",
       "      <td>0</td>\n",
       "      <td>1</td>\n",
       "      <td>NaN</td>\n",
       "      <td>0</td>\n",
       "      <td>0</td>\n",
       "      <td>0</td>\n",
       "      <td>0</td>\n",
       "      <td>Uncoated</td>\n",
       "    </tr>\n",
       "    <tr>\n",
       "      <th>4</th>\n",
       "      <td>REF D TINT 6MM</td>\n",
       "      <td>NECB 2011-FullServiceRestaurant-NECB HDD Metho...</td>\n",
       "      <td>0.820</td>\n",
       "      <td>0.360</td>\n",
       "      <td>0.450</td>\n",
       "      <td>0.9000</td>\n",
       "      <td>1.0</td>\n",
       "      <td>0.840</td>\n",
       "      <td>0.1400</td>\n",
       "      <td>0.1800</td>\n",
       "      <td>...</td>\n",
       "      <td>0</td>\n",
       "      <td>0</td>\n",
       "      <td>0</td>\n",
       "      <td>1</td>\n",
       "      <td>NaN</td>\n",
       "      <td>0</td>\n",
       "      <td>0</td>\n",
       "      <td>0</td>\n",
       "      <td>0</td>\n",
       "      <td>Uncoated</td>\n",
       "    </tr>\n",
       "    <tr>\n",
       "      <th>5</th>\n",
       "      <td>Theoretical Glass [167]</td>\n",
       "      <td>NECB 2011-Hospital-NECB HDD Method-CAN_PQ_Mont...</td>\n",
       "      <td>0.985</td>\n",
       "      <td>0.000</td>\n",
       "      <td>0.000</td>\n",
       "      <td>2.1073</td>\n",
       "      <td>1.0</td>\n",
       "      <td>0.985</td>\n",
       "      <td>0.7126</td>\n",
       "      <td>0.6988</td>\n",
       "      <td>...</td>\n",
       "      <td>0</td>\n",
       "      <td>0</td>\n",
       "      <td>0</td>\n",
       "      <td>1</td>\n",
       "      <td>NaN</td>\n",
       "      <td>0</td>\n",
       "      <td>0</td>\n",
       "      <td>0</td>\n",
       "      <td>0</td>\n",
       "      <td>Uncoated</td>\n",
       "    </tr>\n",
       "    <tr>\n",
       "      <th>6</th>\n",
       "      <td>Theoretical Glass [197]</td>\n",
       "      <td>NECB 2011-Hospital-NECB HDD Method-CAN_PQ_Mont...</td>\n",
       "      <td>0.900</td>\n",
       "      <td>0.000</td>\n",
       "      <td>0.000</td>\n",
       "      <td>0.0415</td>\n",
       "      <td>1.0</td>\n",
       "      <td>0.900</td>\n",
       "      <td>0.7151</td>\n",
       "      <td>0.6988</td>\n",
       "      <td>...</td>\n",
       "      <td>0</td>\n",
       "      <td>0</td>\n",
       "      <td>0</td>\n",
       "      <td>1</td>\n",
       "      <td>NaN</td>\n",
       "      <td>0</td>\n",
       "      <td>0</td>\n",
       "      <td>0</td>\n",
       "      <td>0</td>\n",
       "      <td>Uncoated</td>\n",
       "    </tr>\n",
       "    <tr>\n",
       "      <th>7</th>\n",
       "      <td>Theoretical Glass [202]</td>\n",
       "      <td>NECB 2011-Hospital-NECB HDD Method-CAN_PQ_Mont...</td>\n",
       "      <td>0.900</td>\n",
       "      <td>0.000</td>\n",
       "      <td>0.000</td>\n",
       "      <td>0.0192</td>\n",
       "      <td>1.0</td>\n",
       "      <td>0.900</td>\n",
       "      <td>0.7175</td>\n",
       "      <td>0.6308</td>\n",
       "      <td>...</td>\n",
       "      <td>0</td>\n",
       "      <td>0</td>\n",
       "      <td>0</td>\n",
       "      <td>1</td>\n",
       "      <td>NaN</td>\n",
       "      <td>0</td>\n",
       "      <td>0</td>\n",
       "      <td>0</td>\n",
       "      <td>0</td>\n",
       "      <td>Uncoated</td>\n",
       "    </tr>\n",
       "    <tr>\n",
       "      <th>8</th>\n",
       "      <td>Theoretical Glass [207]</td>\n",
       "      <td>NECB 2011-Hospital-NECB HDD Method-CAN_PQ_Mont...</td>\n",
       "      <td>0.900</td>\n",
       "      <td>0.000</td>\n",
       "      <td>0.000</td>\n",
       "      <td>0.0133</td>\n",
       "      <td>1.0</td>\n",
       "      <td>0.900</td>\n",
       "      <td>0.6189</td>\n",
       "      <td>0.5100</td>\n",
       "      <td>...</td>\n",
       "      <td>0</td>\n",
       "      <td>0</td>\n",
       "      <td>0</td>\n",
       "      <td>1</td>\n",
       "      <td>NaN</td>\n",
       "      <td>0</td>\n",
       "      <td>0</td>\n",
       "      <td>0</td>\n",
       "      <td>0</td>\n",
       "      <td>Uncoated</td>\n",
       "    </tr>\n",
       "    <tr>\n",
       "      <th>9</th>\n",
       "      <td>Theoretical Glass [216]</td>\n",
       "      <td>NECB 2011-Hospital-NECB HDD Method-CAN_PQ_Mont...</td>\n",
       "      <td>0.900</td>\n",
       "      <td>0.000</td>\n",
       "      <td>0.000</td>\n",
       "      <td>0.0133</td>\n",
       "      <td>1.0</td>\n",
       "      <td>0.900</td>\n",
       "      <td>0.5699</td>\n",
       "      <td>0.4421</td>\n",
       "      <td>...</td>\n",
       "      <td>0</td>\n",
       "      <td>0</td>\n",
       "      <td>0</td>\n",
       "      <td>1</td>\n",
       "      <td>NaN</td>\n",
       "      <td>0</td>\n",
       "      <td>0</td>\n",
       "      <td>0</td>\n",
       "      <td>0</td>\n",
       "      <td>Uncoated</td>\n",
       "    </tr>\n",
       "    <tr>\n",
       "      <th>10</th>\n",
       "      <td>Theoretical Glass [221]</td>\n",
       "      <td>NECB 2011-Hospital-NECB HDD Method-CAN_PQ_Mont...</td>\n",
       "      <td>0.900</td>\n",
       "      <td>0.000</td>\n",
       "      <td>0.000</td>\n",
       "      <td>0.0089</td>\n",
       "      <td>1.0</td>\n",
       "      <td>0.900</td>\n",
       "      <td>0.5204</td>\n",
       "      <td>0.4997</td>\n",
       "      <td>...</td>\n",
       "      <td>0</td>\n",
       "      <td>0</td>\n",
       "      <td>0</td>\n",
       "      <td>1</td>\n",
       "      <td>NaN</td>\n",
       "      <td>0</td>\n",
       "      <td>0</td>\n",
       "      <td>0</td>\n",
       "      <td>0</td>\n",
       "      <td>Uncoated</td>\n",
       "    </tr>\n",
       "  </tbody>\n",
       "</table>\n",
       "<p>11 rows × 31 columns</p>\n",
       "</div>"
      ],
      "text/plain": [
       "                        Name  \\\n",
       "$id                            \n",
       "0                  CLEAR 6MM   \n",
       "1                  Clear 3mm   \n",
       "2               LoE TINT 6MM   \n",
       "3            REF D CLEAR 6MM   \n",
       "4             REF D TINT 6MM   \n",
       "5    Theoretical Glass [167]   \n",
       "6    Theoretical Glass [197]   \n",
       "7    Theoretical Glass [202]   \n",
       "8    Theoretical Glass [207]   \n",
       "9    Theoretical Glass [216]   \n",
       "10   Theoretical Glass [221]   \n",
       "\n",
       "                                             Archetype  IREmissivityBack  \\\n",
       "$id                                                                        \n",
       "0    NECB 2011-FullServiceRestaurant-NECB HDD Metho...             0.840   \n",
       "1    NECB 2011-FullServiceRestaurant-NECB HDD Metho...             0.840   \n",
       "2    NECB 2011-FullServiceRestaurant-NECB HDD Metho...             0.100   \n",
       "3    NECB 2011-FullServiceRestaurant-NECB HDD Metho...             0.820   \n",
       "4    NECB 2011-FullServiceRestaurant-NECB HDD Metho...             0.820   \n",
       "5    NECB 2011-Hospital-NECB HDD Method-CAN_PQ_Mont...             0.985   \n",
       "6    NECB 2011-Hospital-NECB HDD Method-CAN_PQ_Mont...             0.900   \n",
       "7    NECB 2011-Hospital-NECB HDD Method-CAN_PQ_Mont...             0.900   \n",
       "8    NECB 2011-Hospital-NECB HDD Method-CAN_PQ_Mont...             0.900   \n",
       "9    NECB 2011-Hospital-NECB HDD Method-CAN_PQ_Mont...             0.900   \n",
       "10   NECB 2011-Hospital-NECB HDD Method-CAN_PQ_Mont...             0.900   \n",
       "\n",
       "     SolarReflectanceBack  VisibleReflectanceBack  Conductivity  DirtFactor  \\\n",
       "$id                                                                           \n",
       "0                   0.071                   0.080        0.9000         1.0   \n",
       "1                   0.075                   0.081        0.9000         1.0   \n",
       "2                   0.200                   0.054        0.9000         1.0   \n",
       "3                   0.379                   0.505        0.9000         1.0   \n",
       "4                   0.360                   0.450        0.9000         1.0   \n",
       "5                   0.000                   0.000        2.1073         1.0   \n",
       "6                   0.000                   0.000        0.0415         1.0   \n",
       "7                   0.000                   0.000        0.0192         1.0   \n",
       "8                   0.000                   0.000        0.0133         1.0   \n",
       "9                   0.000                   0.000        0.0133         1.0   \n",
       "10                  0.000                   0.000        0.0089         1.0   \n",
       "\n",
       "     IREmissivityFront  SolarReflectanceFront  VisibleReflectanceFront  \\\n",
       "$id                                                                      \n",
       "0                0.840                 0.0710                   0.0800   \n",
       "1                0.840                 0.0750                   0.0810   \n",
       "2                0.840                 0.0930                   0.0350   \n",
       "3                0.840                 0.3080                   0.4530   \n",
       "4                0.840                 0.1400                   0.1800   \n",
       "5                0.985                 0.7126                   0.6988   \n",
       "6                0.900                 0.7151                   0.6988   \n",
       "7                0.900                 0.7175                   0.6308   \n",
       "8                0.900                 0.6189                   0.5100   \n",
       "9                0.900                 0.5699                   0.4421   \n",
       "10               0.900                 0.5204                   0.4997   \n",
       "\n",
       "       ...     EmbodiedCarbonStdDev EmbodiedEnergy  EmbodiedEnergyStdDev  \\\n",
       "$id    ...                                                                 \n",
       "0      ...                        0              0                     0   \n",
       "1      ...                        0              0                     0   \n",
       "2      ...                        0              0                     0   \n",
       "3      ...                        0              0                     0   \n",
       "4      ...                        0              0                     0   \n",
       "5      ...                        0              0                     0   \n",
       "6      ...                        0              0                     0   \n",
       "7      ...                        0              0                     0   \n",
       "8      ...                        0              0                     0   \n",
       "9      ...                        0              0                     0   \n",
       "10     ...                        0              0                     0   \n",
       "\n",
       "     Life  SubstitutionRatePattern SubstitutionTimestep TransportCarbon  \\\n",
       "$id                                                                       \n",
       "0       1                      NaN                    0               0   \n",
       "1       1                      NaN                    0               0   \n",
       "2       1                      NaN                    0               0   \n",
       "3       1                      NaN                    0               0   \n",
       "4       1                      NaN                    0               0   \n",
       "5       1                      NaN                    0               0   \n",
       "6       1                      NaN                    0               0   \n",
       "7       1                      NaN                    0               0   \n",
       "8       1                      NaN                    0               0   \n",
       "9       1                      NaN                    0               0   \n",
       "10      1                      NaN                    0               0   \n",
       "\n",
       "     TransportDistance  TransportEnergy      Type  \n",
       "$id                                                \n",
       "0                    0                0  Uncoated  \n",
       "1                    0                0  Uncoated  \n",
       "2                    0                0  Uncoated  \n",
       "3                    0                0  Uncoated  \n",
       "4                    0                0  Uncoated  \n",
       "5                    0                0  Uncoated  \n",
       "6                    0                0  Uncoated  \n",
       "7                    0                0  Uncoated  \n",
       "8                    0                0  Uncoated  \n",
       "9                    0                0  Uncoated  \n",
       "10                   0                0  Uncoated  \n",
       "\n",
       "[11 rows x 31 columns]"
      ]
     },
     "execution_count": 21,
     "metadata": {},
     "output_type": "execute_result"
    }
   ],
   "source": [
    "GlazingMaterials"
   ]
  },
  {
   "cell_type": "code",
   "execution_count": 22,
   "metadata": {
    "scrolled": false
   },
   "outputs": [
    {
     "data": {
      "text/html": [
       "<div>\n",
       "<style scoped>\n",
       "    .dataframe tbody tr th:only-of-type {\n",
       "        vertical-align: middle;\n",
       "    }\n",
       "\n",
       "    .dataframe tbody tr th {\n",
       "        vertical-align: top;\n",
       "    }\n",
       "\n",
       "    .dataframe thead th {\n",
       "        text-align: right;\n",
       "    }\n",
       "</style>\n",
       "<table border=\"1\" class=\"dataframe\">\n",
       "  <thead>\n",
       "    <tr style=\"text-align: right;\">\n",
       "      <th></th>\n",
       "      <th>Name</th>\n",
       "      <th>Archetype</th>\n",
       "      <th>IREmissivityBack</th>\n",
       "      <th>SolarReflectanceBack</th>\n",
       "      <th>VisibleReflectanceBack</th>\n",
       "      <th>Conductivity</th>\n",
       "      <th>DirtFactor</th>\n",
       "      <th>IREmissivityFront</th>\n",
       "      <th>SolarReflectanceFront</th>\n",
       "      <th>VisibleReflectanceFront</th>\n",
       "      <th>...</th>\n",
       "      <th>EmbodiedCarbonStdDev</th>\n",
       "      <th>EmbodiedEnergy</th>\n",
       "      <th>EmbodiedEnergyStdDev</th>\n",
       "      <th>Life</th>\n",
       "      <th>SubstitutionRatePattern</th>\n",
       "      <th>SubstitutionTimestep</th>\n",
       "      <th>TransportCarbon</th>\n",
       "      <th>TransportDistance</th>\n",
       "      <th>TransportEnergy</th>\n",
       "      <th>Type</th>\n",
       "    </tr>\n",
       "    <tr>\n",
       "      <th>$id</th>\n",
       "      <th></th>\n",
       "      <th></th>\n",
       "      <th></th>\n",
       "      <th></th>\n",
       "      <th></th>\n",
       "      <th></th>\n",
       "      <th></th>\n",
       "      <th></th>\n",
       "      <th></th>\n",
       "      <th></th>\n",
       "      <th></th>\n",
       "      <th></th>\n",
       "      <th></th>\n",
       "      <th></th>\n",
       "      <th></th>\n",
       "      <th></th>\n",
       "      <th></th>\n",
       "      <th></th>\n",
       "      <th></th>\n",
       "      <th></th>\n",
       "      <th></th>\n",
       "    </tr>\n",
       "  </thead>\n",
       "  <tbody>\n",
       "    <tr>\n",
       "      <th>2</th>\n",
       "      <td>CLEAR 6MM</td>\n",
       "      <td>NECB 2011-FullServiceRestaurant-NECB HDD Metho...</td>\n",
       "      <td>0.840</td>\n",
       "      <td>0.071</td>\n",
       "      <td>0.080</td>\n",
       "      <td>0.9000</td>\n",
       "      <td>1.0</td>\n",
       "      <td>0.840</td>\n",
       "      <td>0.0710</td>\n",
       "      <td>0.0800</td>\n",
       "      <td>...</td>\n",
       "      <td>0</td>\n",
       "      <td>0</td>\n",
       "      <td>0</td>\n",
       "      <td>1</td>\n",
       "      <td>NaN</td>\n",
       "      <td>0</td>\n",
       "      <td>0</td>\n",
       "      <td>0</td>\n",
       "      <td>0</td>\n",
       "      <td>Uncoated</td>\n",
       "    </tr>\n",
       "    <tr>\n",
       "      <th>3</th>\n",
       "      <td>Clear 3mm</td>\n",
       "      <td>NECB 2011-FullServiceRestaurant-NECB HDD Metho...</td>\n",
       "      <td>0.840</td>\n",
       "      <td>0.075</td>\n",
       "      <td>0.081</td>\n",
       "      <td>0.9000</td>\n",
       "      <td>1.0</td>\n",
       "      <td>0.840</td>\n",
       "      <td>0.0750</td>\n",
       "      <td>0.0810</td>\n",
       "      <td>...</td>\n",
       "      <td>0</td>\n",
       "      <td>0</td>\n",
       "      <td>0</td>\n",
       "      <td>1</td>\n",
       "      <td>NaN</td>\n",
       "      <td>0</td>\n",
       "      <td>0</td>\n",
       "      <td>0</td>\n",
       "      <td>0</td>\n",
       "      <td>Uncoated</td>\n",
       "    </tr>\n",
       "    <tr>\n",
       "      <th>4</th>\n",
       "      <td>LoE TINT 6MM</td>\n",
       "      <td>NECB 2011-FullServiceRestaurant-NECB HDD Metho...</td>\n",
       "      <td>0.100</td>\n",
       "      <td>0.200</td>\n",
       "      <td>0.054</td>\n",
       "      <td>0.9000</td>\n",
       "      <td>1.0</td>\n",
       "      <td>0.840</td>\n",
       "      <td>0.0930</td>\n",
       "      <td>0.0350</td>\n",
       "      <td>...</td>\n",
       "      <td>0</td>\n",
       "      <td>0</td>\n",
       "      <td>0</td>\n",
       "      <td>1</td>\n",
       "      <td>NaN</td>\n",
       "      <td>0</td>\n",
       "      <td>0</td>\n",
       "      <td>0</td>\n",
       "      <td>0</td>\n",
       "      <td>Uncoated</td>\n",
       "    </tr>\n",
       "    <tr>\n",
       "      <th>5</th>\n",
       "      <td>REF D CLEAR 6MM</td>\n",
       "      <td>NECB 2011-FullServiceRestaurant-NECB HDD Metho...</td>\n",
       "      <td>0.820</td>\n",
       "      <td>0.379</td>\n",
       "      <td>0.505</td>\n",
       "      <td>0.9000</td>\n",
       "      <td>1.0</td>\n",
       "      <td>0.840</td>\n",
       "      <td>0.3080</td>\n",
       "      <td>0.4530</td>\n",
       "      <td>...</td>\n",
       "      <td>0</td>\n",
       "      <td>0</td>\n",
       "      <td>0</td>\n",
       "      <td>1</td>\n",
       "      <td>NaN</td>\n",
       "      <td>0</td>\n",
       "      <td>0</td>\n",
       "      <td>0</td>\n",
       "      <td>0</td>\n",
       "      <td>Uncoated</td>\n",
       "    </tr>\n",
       "    <tr>\n",
       "      <th>6</th>\n",
       "      <td>REF D TINT 6MM</td>\n",
       "      <td>NECB 2011-FullServiceRestaurant-NECB HDD Metho...</td>\n",
       "      <td>0.820</td>\n",
       "      <td>0.360</td>\n",
       "      <td>0.450</td>\n",
       "      <td>0.9000</td>\n",
       "      <td>1.0</td>\n",
       "      <td>0.840</td>\n",
       "      <td>0.1400</td>\n",
       "      <td>0.1800</td>\n",
       "      <td>...</td>\n",
       "      <td>0</td>\n",
       "      <td>0</td>\n",
       "      <td>0</td>\n",
       "      <td>1</td>\n",
       "      <td>NaN</td>\n",
       "      <td>0</td>\n",
       "      <td>0</td>\n",
       "      <td>0</td>\n",
       "      <td>0</td>\n",
       "      <td>Uncoated</td>\n",
       "    </tr>\n",
       "    <tr>\n",
       "      <th>7</th>\n",
       "      <td>Theoretical Glass [167]</td>\n",
       "      <td>NECB 2011-Hospital-NECB HDD Method-CAN_PQ_Mont...</td>\n",
       "      <td>0.985</td>\n",
       "      <td>0.000</td>\n",
       "      <td>0.000</td>\n",
       "      <td>2.1073</td>\n",
       "      <td>1.0</td>\n",
       "      <td>0.985</td>\n",
       "      <td>0.7126</td>\n",
       "      <td>0.6988</td>\n",
       "      <td>...</td>\n",
       "      <td>0</td>\n",
       "      <td>0</td>\n",
       "      <td>0</td>\n",
       "      <td>1</td>\n",
       "      <td>NaN</td>\n",
       "      <td>0</td>\n",
       "      <td>0</td>\n",
       "      <td>0</td>\n",
       "      <td>0</td>\n",
       "      <td>Uncoated</td>\n",
       "    </tr>\n",
       "    <tr>\n",
       "      <th>8</th>\n",
       "      <td>Theoretical Glass [197]</td>\n",
       "      <td>NECB 2011-Hospital-NECB HDD Method-CAN_PQ_Mont...</td>\n",
       "      <td>0.900</td>\n",
       "      <td>0.000</td>\n",
       "      <td>0.000</td>\n",
       "      <td>0.0415</td>\n",
       "      <td>1.0</td>\n",
       "      <td>0.900</td>\n",
       "      <td>0.7151</td>\n",
       "      <td>0.6988</td>\n",
       "      <td>...</td>\n",
       "      <td>0</td>\n",
       "      <td>0</td>\n",
       "      <td>0</td>\n",
       "      <td>1</td>\n",
       "      <td>NaN</td>\n",
       "      <td>0</td>\n",
       "      <td>0</td>\n",
       "      <td>0</td>\n",
       "      <td>0</td>\n",
       "      <td>Uncoated</td>\n",
       "    </tr>\n",
       "    <tr>\n",
       "      <th>9</th>\n",
       "      <td>Theoretical Glass [202]</td>\n",
       "      <td>NECB 2011-Hospital-NECB HDD Method-CAN_PQ_Mont...</td>\n",
       "      <td>0.900</td>\n",
       "      <td>0.000</td>\n",
       "      <td>0.000</td>\n",
       "      <td>0.0192</td>\n",
       "      <td>1.0</td>\n",
       "      <td>0.900</td>\n",
       "      <td>0.7175</td>\n",
       "      <td>0.6308</td>\n",
       "      <td>...</td>\n",
       "      <td>0</td>\n",
       "      <td>0</td>\n",
       "      <td>0</td>\n",
       "      <td>1</td>\n",
       "      <td>NaN</td>\n",
       "      <td>0</td>\n",
       "      <td>0</td>\n",
       "      <td>0</td>\n",
       "      <td>0</td>\n",
       "      <td>Uncoated</td>\n",
       "    </tr>\n",
       "    <tr>\n",
       "      <th>10</th>\n",
       "      <td>Theoretical Glass [207]</td>\n",
       "      <td>NECB 2011-Hospital-NECB HDD Method-CAN_PQ_Mont...</td>\n",
       "      <td>0.900</td>\n",
       "      <td>0.000</td>\n",
       "      <td>0.000</td>\n",
       "      <td>0.0133</td>\n",
       "      <td>1.0</td>\n",
       "      <td>0.900</td>\n",
       "      <td>0.6189</td>\n",
       "      <td>0.5100</td>\n",
       "      <td>...</td>\n",
       "      <td>0</td>\n",
       "      <td>0</td>\n",
       "      <td>0</td>\n",
       "      <td>1</td>\n",
       "      <td>NaN</td>\n",
       "      <td>0</td>\n",
       "      <td>0</td>\n",
       "      <td>0</td>\n",
       "      <td>0</td>\n",
       "      <td>Uncoated</td>\n",
       "    </tr>\n",
       "    <tr>\n",
       "      <th>11</th>\n",
       "      <td>Theoretical Glass [216]</td>\n",
       "      <td>NECB 2011-Hospital-NECB HDD Method-CAN_PQ_Mont...</td>\n",
       "      <td>0.900</td>\n",
       "      <td>0.000</td>\n",
       "      <td>0.000</td>\n",
       "      <td>0.0133</td>\n",
       "      <td>1.0</td>\n",
       "      <td>0.900</td>\n",
       "      <td>0.5699</td>\n",
       "      <td>0.4421</td>\n",
       "      <td>...</td>\n",
       "      <td>0</td>\n",
       "      <td>0</td>\n",
       "      <td>0</td>\n",
       "      <td>1</td>\n",
       "      <td>NaN</td>\n",
       "      <td>0</td>\n",
       "      <td>0</td>\n",
       "      <td>0</td>\n",
       "      <td>0</td>\n",
       "      <td>Uncoated</td>\n",
       "    </tr>\n",
       "    <tr>\n",
       "      <th>12</th>\n",
       "      <td>Theoretical Glass [221]</td>\n",
       "      <td>NECB 2011-Hospital-NECB HDD Method-CAN_PQ_Mont...</td>\n",
       "      <td>0.900</td>\n",
       "      <td>0.000</td>\n",
       "      <td>0.000</td>\n",
       "      <td>0.0089</td>\n",
       "      <td>1.0</td>\n",
       "      <td>0.900</td>\n",
       "      <td>0.5204</td>\n",
       "      <td>0.4997</td>\n",
       "      <td>...</td>\n",
       "      <td>0</td>\n",
       "      <td>0</td>\n",
       "      <td>0</td>\n",
       "      <td>1</td>\n",
       "      <td>NaN</td>\n",
       "      <td>0</td>\n",
       "      <td>0</td>\n",
       "      <td>0</td>\n",
       "      <td>0</td>\n",
       "      <td>Uncoated</td>\n",
       "    </tr>\n",
       "  </tbody>\n",
       "</table>\n",
       "<p>11 rows × 31 columns</p>\n",
       "</div>"
      ],
      "text/plain": [
       "                        Name  \\\n",
       "$id                            \n",
       "2                  CLEAR 6MM   \n",
       "3                  Clear 3mm   \n",
       "4               LoE TINT 6MM   \n",
       "5            REF D CLEAR 6MM   \n",
       "6             REF D TINT 6MM   \n",
       "7    Theoretical Glass [167]   \n",
       "8    Theoretical Glass [197]   \n",
       "9    Theoretical Glass [202]   \n",
       "10   Theoretical Glass [207]   \n",
       "11   Theoretical Glass [216]   \n",
       "12   Theoretical Glass [221]   \n",
       "\n",
       "                                             Archetype  IREmissivityBack  \\\n",
       "$id                                                                        \n",
       "2    NECB 2011-FullServiceRestaurant-NECB HDD Metho...             0.840   \n",
       "3    NECB 2011-FullServiceRestaurant-NECB HDD Metho...             0.840   \n",
       "4    NECB 2011-FullServiceRestaurant-NECB HDD Metho...             0.100   \n",
       "5    NECB 2011-FullServiceRestaurant-NECB HDD Metho...             0.820   \n",
       "6    NECB 2011-FullServiceRestaurant-NECB HDD Metho...             0.820   \n",
       "7    NECB 2011-Hospital-NECB HDD Method-CAN_PQ_Mont...             0.985   \n",
       "8    NECB 2011-Hospital-NECB HDD Method-CAN_PQ_Mont...             0.900   \n",
       "9    NECB 2011-Hospital-NECB HDD Method-CAN_PQ_Mont...             0.900   \n",
       "10   NECB 2011-Hospital-NECB HDD Method-CAN_PQ_Mont...             0.900   \n",
       "11   NECB 2011-Hospital-NECB HDD Method-CAN_PQ_Mont...             0.900   \n",
       "12   NECB 2011-Hospital-NECB HDD Method-CAN_PQ_Mont...             0.900   \n",
       "\n",
       "     SolarReflectanceBack  VisibleReflectanceBack  Conductivity  DirtFactor  \\\n",
       "$id                                                                           \n",
       "2                   0.071                   0.080        0.9000         1.0   \n",
       "3                   0.075                   0.081        0.9000         1.0   \n",
       "4                   0.200                   0.054        0.9000         1.0   \n",
       "5                   0.379                   0.505        0.9000         1.0   \n",
       "6                   0.360                   0.450        0.9000         1.0   \n",
       "7                   0.000                   0.000        2.1073         1.0   \n",
       "8                   0.000                   0.000        0.0415         1.0   \n",
       "9                   0.000                   0.000        0.0192         1.0   \n",
       "10                  0.000                   0.000        0.0133         1.0   \n",
       "11                  0.000                   0.000        0.0133         1.0   \n",
       "12                  0.000                   0.000        0.0089         1.0   \n",
       "\n",
       "     IREmissivityFront  SolarReflectanceFront  VisibleReflectanceFront  \\\n",
       "$id                                                                      \n",
       "2                0.840                 0.0710                   0.0800   \n",
       "3                0.840                 0.0750                   0.0810   \n",
       "4                0.840                 0.0930                   0.0350   \n",
       "5                0.840                 0.3080                   0.4530   \n",
       "6                0.840                 0.1400                   0.1800   \n",
       "7                0.985                 0.7126                   0.6988   \n",
       "8                0.900                 0.7151                   0.6988   \n",
       "9                0.900                 0.7175                   0.6308   \n",
       "10               0.900                 0.6189                   0.5100   \n",
       "11               0.900                 0.5699                   0.4421   \n",
       "12               0.900                 0.5204                   0.4997   \n",
       "\n",
       "       ...     EmbodiedCarbonStdDev EmbodiedEnergy  EmbodiedEnergyStdDev  \\\n",
       "$id    ...                                                                 \n",
       "2      ...                        0              0                     0   \n",
       "3      ...                        0              0                     0   \n",
       "4      ...                        0              0                     0   \n",
       "5      ...                        0              0                     0   \n",
       "6      ...                        0              0                     0   \n",
       "7      ...                        0              0                     0   \n",
       "8      ...                        0              0                     0   \n",
       "9      ...                        0              0                     0   \n",
       "10     ...                        0              0                     0   \n",
       "11     ...                        0              0                     0   \n",
       "12     ...                        0              0                     0   \n",
       "\n",
       "     Life  SubstitutionRatePattern SubstitutionTimestep TransportCarbon  \\\n",
       "$id                                                                       \n",
       "2       1                      NaN                    0               0   \n",
       "3       1                      NaN                    0               0   \n",
       "4       1                      NaN                    0               0   \n",
       "5       1                      NaN                    0               0   \n",
       "6       1                      NaN                    0               0   \n",
       "7       1                      NaN                    0               0   \n",
       "8       1                      NaN                    0               0   \n",
       "9       1                      NaN                    0               0   \n",
       "10      1                      NaN                    0               0   \n",
       "11      1                      NaN                    0               0   \n",
       "12      1                      NaN                    0               0   \n",
       "\n",
       "     TransportDistance  TransportEnergy      Type  \n",
       "$id                                                \n",
       "2                    0                0  Uncoated  \n",
       "3                    0                0  Uncoated  \n",
       "4                    0                0  Uncoated  \n",
       "5                    0                0  Uncoated  \n",
       "6                    0                0  Uncoated  \n",
       "7                    0                0  Uncoated  \n",
       "8                    0                0  Uncoated  \n",
       "9                    0                0  Uncoated  \n",
       "10                   0                0  Uncoated  \n",
       "11                   0                0  Uncoated  \n",
       "12                   0                0  Uncoated  \n",
       "\n",
       "[11 rows x 31 columns]"
      ]
     },
     "execution_count": 22,
     "metadata": {},
     "output_type": "execute_result"
    }
   ],
   "source": [
    "GlazingMaterials.index = newrange(GasMaterials, GlazingMaterials)\n",
    "GlazingMaterials.index.rename('$id', inplace=True)\n",
    "GlazingMaterials"
   ]
  },
  {
   "cell_type": "markdown",
   "metadata": {},
   "source": [
    "#### WINDOWMATERIAL:SIMPLEGLAZINGSYSTEM"
   ]
  },
  {
   "cell_type": "code",
   "execution_count": 23,
   "metadata": {},
   "outputs": [],
   "source": [
    "WindowMaterialsSimpleGlaze = pu.parse_idfs(idfs, 'WINDOWMATERIAL:SIMPLEGLAZINGSYSTEM', keys)"
   ]
  },
  {
   "cell_type": "code",
   "execution_count": 24,
   "metadata": {
    "scrolled": true
   },
   "outputs": [],
   "source": [
    "SimpleGlazing = WindowMaterialsSimpleGlaze.apply(lambda row: pu.simple_glazing(row['Solar_Heat_Gain_Coefficient'], row['UFactor'], row['Visible_Transmittance']), axis=1).apply(pd.Series)\n",
    "SimpleGlazing.loc[:,'Name'] = WindowMaterialsSimpleGlaze['Name']\n",
    "SimpleGlazing.loc[:,'DataSource'] = 'EnergyPlus Simple Glazing Calculation'"
   ]
  },
  {
   "cell_type": "code",
   "execution_count": 25,
   "metadata": {},
   "outputs": [
    {
     "data": {
      "text/plain": [
       "Name                           Customized Fenestration:: cond=0.220 tvis=0.22...\n",
       "Archetype                      NECB 2011-FullServiceRestaurant-NECB HDD Metho...\n",
       "Solar_Heat_Gain_Coefficient                                                  0.6\n",
       "UFactor                                                                      2.2\n",
       "Visible_Transmittance                                                       0.21\n",
       "key                                           WindowMaterial:SimpleGlazingSystem\n",
       "Name: 0, dtype: object"
      ]
     },
     "execution_count": 25,
     "metadata": {},
     "output_type": "execute_result"
    }
   ],
   "source": [
    "WindowMaterialsSimpleGlaze.iloc[0]"
   ]
  },
  {
   "cell_type": "code",
   "execution_count": 26,
   "metadata": {},
   "outputs": [],
   "source": [
    "GlazingMaterials = GlazingMaterials.append(SimpleGlazing, ignore_index=True, sort=True)"
   ]
  },
  {
   "cell_type": "markdown",
   "metadata": {},
   "source": [
    "## OpaqueMaterials"
   ]
  },
  {
   "cell_type": "code",
   "execution_count": 27,
   "metadata": {},
   "outputs": [],
   "source": [
    "# MASS\n",
    "MaterialsMass = pu.parse_idfs(idfs, 'MATERIAL', keys)"
   ]
  },
  {
   "cell_type": "code",
   "execution_count": 28,
   "metadata": {},
   "outputs": [
    {
     "ename": "NameError",
     "evalue": "name 'get_values' is not defined",
     "output_type": "error",
     "traceback": [
      "\u001b[1;31m---------------------------------------------------------------------------\u001b[0m",
      "\u001b[1;31mNameError\u001b[0m                                 Traceback (most recent call last)",
      "\u001b[1;32m<ipython-input-28-60ce4d95034e>\u001b[0m in \u001b[0;36m<module>\u001b[1;34m()\u001b[0m\n\u001b[0;32m      3\u001b[0m \u001b[1;32mfor\u001b[0m \u001b[0midf\u001b[0m \u001b[1;32min\u001b[0m \u001b[0midfs\u001b[0m\u001b[1;33m:\u001b[0m\u001b[1;33m\u001b[0m\u001b[0m\n\u001b[0;32m      4\u001b[0m     \u001b[0mMaterialNoMass\u001b[0m \u001b[1;33m=\u001b[0m \u001b[0midf\u001b[0m\u001b[1;33m.\u001b[0m\u001b[0midfobjects\u001b[0m\u001b[1;33m[\u001b[0m\u001b[1;34m'MATERIAL:NOMASS'\u001b[0m\u001b[1;33m]\u001b[0m\u001b[1;33m\u001b[0m\u001b[0m\n\u001b[1;32m----> 5\u001b[1;33m     \u001b[0mMaterialNoMass\u001b[0m \u001b[1;33m=\u001b[0m \u001b[1;33m[\u001b[0m\u001b[0mget_values\u001b[0m\u001b[1;33m(\u001b[0m\u001b[0mframe\u001b[0m\u001b[1;33m)\u001b[0m \u001b[1;32mfor\u001b[0m \u001b[0mframe\u001b[0m \u001b[1;32min\u001b[0m \u001b[0mMaterialNoMass\u001b[0m\u001b[1;33m]\u001b[0m\u001b[1;33m\u001b[0m\u001b[0m\n\u001b[0m\u001b[0;32m      6\u001b[0m     \u001b[0mMaterialNoMass\u001b[0m \u001b[1;33m=\u001b[0m \u001b[0mpd\u001b[0m\u001b[1;33m.\u001b[0m\u001b[0mconcat\u001b[0m\u001b[1;33m(\u001b[0m\u001b[0mMaterialNoMass\u001b[0m\u001b[1;33m,\u001b[0m \u001b[0mignore_index\u001b[0m\u001b[1;33m=\u001b[0m\u001b[1;32mTrue\u001b[0m\u001b[1;33m,\u001b[0m \u001b[0msort\u001b[0m\u001b[1;33m=\u001b[0m\u001b[1;32mTrue\u001b[0m\u001b[1;33m)\u001b[0m\u001b[1;33m\u001b[0m\u001b[0m\n\u001b[0;32m      7\u001b[0m     \u001b[0mMaterialNoMass_s\u001b[0m\u001b[1;33m.\u001b[0m\u001b[0mappend\u001b[0m\u001b[1;33m(\u001b[0m\u001b[0mMaterialNoMass\u001b[0m\u001b[1;33m)\u001b[0m\u001b[1;33m\u001b[0m\u001b[0m\n",
      "\u001b[1;32m<ipython-input-28-60ce4d95034e>\u001b[0m in \u001b[0;36m<listcomp>\u001b[1;34m(.0)\u001b[0m\n\u001b[0;32m      3\u001b[0m \u001b[1;32mfor\u001b[0m \u001b[0midf\u001b[0m \u001b[1;32min\u001b[0m \u001b[0midfs\u001b[0m\u001b[1;33m:\u001b[0m\u001b[1;33m\u001b[0m\u001b[0m\n\u001b[0;32m      4\u001b[0m     \u001b[0mMaterialNoMass\u001b[0m \u001b[1;33m=\u001b[0m \u001b[0midf\u001b[0m\u001b[1;33m.\u001b[0m\u001b[0midfobjects\u001b[0m\u001b[1;33m[\u001b[0m\u001b[1;34m'MATERIAL:NOMASS'\u001b[0m\u001b[1;33m]\u001b[0m\u001b[1;33m\u001b[0m\u001b[0m\n\u001b[1;32m----> 5\u001b[1;33m     \u001b[0mMaterialNoMass\u001b[0m \u001b[1;33m=\u001b[0m \u001b[1;33m[\u001b[0m\u001b[0mget_values\u001b[0m\u001b[1;33m(\u001b[0m\u001b[0mframe\u001b[0m\u001b[1;33m)\u001b[0m \u001b[1;32mfor\u001b[0m \u001b[0mframe\u001b[0m \u001b[1;32min\u001b[0m \u001b[0mMaterialNoMass\u001b[0m\u001b[1;33m]\u001b[0m\u001b[1;33m\u001b[0m\u001b[0m\n\u001b[0m\u001b[0;32m      6\u001b[0m     \u001b[0mMaterialNoMass\u001b[0m \u001b[1;33m=\u001b[0m \u001b[0mpd\u001b[0m\u001b[1;33m.\u001b[0m\u001b[0mconcat\u001b[0m\u001b[1;33m(\u001b[0m\u001b[0mMaterialNoMass\u001b[0m\u001b[1;33m,\u001b[0m \u001b[0mignore_index\u001b[0m\u001b[1;33m=\u001b[0m\u001b[1;32mTrue\u001b[0m\u001b[1;33m,\u001b[0m \u001b[0msort\u001b[0m\u001b[1;33m=\u001b[0m\u001b[1;32mTrue\u001b[0m\u001b[1;33m)\u001b[0m\u001b[1;33m\u001b[0m\u001b[0m\n\u001b[0;32m      7\u001b[0m     \u001b[0mMaterialNoMass_s\u001b[0m\u001b[1;33m.\u001b[0m\u001b[0mappend\u001b[0m\u001b[1;33m(\u001b[0m\u001b[0mMaterialNoMass\u001b[0m\u001b[1;33m)\u001b[0m\u001b[1;33m\u001b[0m\u001b[0m\n",
      "\u001b[1;31mNameError\u001b[0m: name 'get_values' is not defined"
     ]
    }
   ],
   "source": [
    "# NoMASS\n",
    "MaterialNoMass_s = []\n",
    "for idf in idfs:\n",
    "    MaterialNoMass = idf.idfobjects['MATERIAL:NOMASS']\n",
    "    MaterialNoMass = [get_values(frame) for frame in MaterialNoMass]\n",
    "    MaterialNoMass = pd.concat(MaterialNoMass, ignore_index=True, sort=True)\n",
    "    MaterialNoMass_s.append(MaterialNoMass)\n",
    "MaterialNoMass = pd.concat(MaterialNoMass_s, keys=keys, names=['Archetype','$id'])\n",
    "MaterialNoMass = MaterialNoMass.groupby('Name').first()\n",
    "MaterialNoMass.reset_index(inplace=True)"
   ]
  },
  {
   "cell_type": "code",
   "execution_count": 29,
   "metadata": {
    "scrolled": true
   },
   "outputs": [
    {
     "ename": "TypeError",
     "evalue": "cannot concatenate object of type \"<class 'eppy.idf_msequence.Idf_MSequence'>\"; only pd.Series, pd.DataFrame, and pd.Panel (deprecated) objs are valid",
     "output_type": "error",
     "traceback": [
      "\u001b[1;31m---------------------------------------------------------------------------\u001b[0m",
      "\u001b[1;31mTypeError\u001b[0m                                 Traceback (most recent call last)",
      "\u001b[1;32m<ipython-input-29-ad64f0b11e1e>\u001b[0m in \u001b[0;36m<module>\u001b[1;34m()\u001b[0m\n\u001b[1;32m----> 1\u001b[1;33m \u001b[0mOpaqueMaterials\u001b[0m \u001b[1;33m=\u001b[0m \u001b[0mpd\u001b[0m\u001b[1;33m.\u001b[0m\u001b[0mconcat\u001b[0m\u001b[1;33m(\u001b[0m\u001b[1;33m[\u001b[0m\u001b[0mMaterialsMass\u001b[0m\u001b[1;33m,\u001b[0m\u001b[0mMaterialNoMass\u001b[0m\u001b[1;33m]\u001b[0m\u001b[1;33m,\u001b[0m \u001b[0msort\u001b[0m\u001b[1;33m=\u001b[0m\u001b[1;32mTrue\u001b[0m\u001b[1;33m,\u001b[0m \u001b[0mignore_index\u001b[0m\u001b[1;33m=\u001b[0m\u001b[1;32mTrue\u001b[0m\u001b[1;33m)\u001b[0m\u001b[1;33m\u001b[0m\u001b[0m\n\u001b[0m\u001b[0;32m      2\u001b[0m \u001b[0mOpaqueMaterials\u001b[0m\u001b[1;33m.\u001b[0m\u001b[0mindex\u001b[0m \u001b[1;33m=\u001b[0m \u001b[0mnewrange\u001b[0m\u001b[1;33m(\u001b[0m\u001b[0mGlazingMaterials\u001b[0m\u001b[1;33m,\u001b[0m \u001b[0mOpaqueMaterials\u001b[0m\u001b[1;33m)\u001b[0m\u001b[1;33m\u001b[0m\u001b[0m\n\u001b[0;32m      3\u001b[0m \u001b[0mOpaqueMaterials\u001b[0m\u001b[1;33m.\u001b[0m\u001b[0mindex\u001b[0m\u001b[1;33m.\u001b[0m\u001b[0mname\u001b[0m \u001b[1;33m=\u001b[0m \u001b[1;34m'$id'\u001b[0m\u001b[1;33m\u001b[0m\u001b[0m\n",
      "\u001b[1;32mC:\\ProgramData\\Anaconda3\\lib\\site-packages\\pandas\\core\\reshape\\concat.py\u001b[0m in \u001b[0;36mconcat\u001b[1;34m(objs, axis, join, join_axes, ignore_index, keys, levels, names, verify_integrity, sort, copy)\u001b[0m\n\u001b[0;32m    223\u001b[0m                        \u001b[0mkeys\u001b[0m\u001b[1;33m=\u001b[0m\u001b[0mkeys\u001b[0m\u001b[1;33m,\u001b[0m \u001b[0mlevels\u001b[0m\u001b[1;33m=\u001b[0m\u001b[0mlevels\u001b[0m\u001b[1;33m,\u001b[0m \u001b[0mnames\u001b[0m\u001b[1;33m=\u001b[0m\u001b[0mnames\u001b[0m\u001b[1;33m,\u001b[0m\u001b[1;33m\u001b[0m\u001b[0m\n\u001b[0;32m    224\u001b[0m                        \u001b[0mverify_integrity\u001b[0m\u001b[1;33m=\u001b[0m\u001b[0mverify_integrity\u001b[0m\u001b[1;33m,\u001b[0m\u001b[1;33m\u001b[0m\u001b[0m\n\u001b[1;32m--> 225\u001b[1;33m                        copy=copy, sort=sort)\n\u001b[0m\u001b[0;32m    226\u001b[0m     \u001b[1;32mreturn\u001b[0m \u001b[0mop\u001b[0m\u001b[1;33m.\u001b[0m\u001b[0mget_result\u001b[0m\u001b[1;33m(\u001b[0m\u001b[1;33m)\u001b[0m\u001b[1;33m\u001b[0m\u001b[0m\n\u001b[0;32m    227\u001b[0m \u001b[1;33m\u001b[0m\u001b[0m\n",
      "\u001b[1;32mC:\\ProgramData\\Anaconda3\\lib\\site-packages\\pandas\\core\\reshape\\concat.py\u001b[0m in \u001b[0;36m__init__\u001b[1;34m(self, objs, axis, join, join_axes, keys, levels, names, ignore_index, verify_integrity, copy, sort)\u001b[0m\n\u001b[0;32m    284\u001b[0m                        \u001b[1;34m' only pd.Series, pd.DataFrame, and pd.Panel'\u001b[0m\u001b[1;33m\u001b[0m\u001b[0m\n\u001b[0;32m    285\u001b[0m                        ' (deprecated) objs are valid'.format(type(obj)))\n\u001b[1;32m--> 286\u001b[1;33m                 \u001b[1;32mraise\u001b[0m \u001b[0mTypeError\u001b[0m\u001b[1;33m(\u001b[0m\u001b[0mmsg\u001b[0m\u001b[1;33m)\u001b[0m\u001b[1;33m\u001b[0m\u001b[0m\n\u001b[0m\u001b[0;32m    287\u001b[0m \u001b[1;33m\u001b[0m\u001b[0m\n\u001b[0;32m    288\u001b[0m             \u001b[1;31m# consolidate\u001b[0m\u001b[1;33m\u001b[0m\u001b[1;33m\u001b[0m\u001b[0m\n",
      "\u001b[1;31mTypeError\u001b[0m: cannot concatenate object of type \"<class 'eppy.idf_msequence.Idf_MSequence'>\"; only pd.Series, pd.DataFrame, and pd.Panel (deprecated) objs are valid"
     ]
    }
   ],
   "source": [
    "OpaqueMaterials = pd.concat([MaterialsMass,MaterialNoMass], sort=True, ignore_index=True)\n",
    "OpaqueMaterials.index = newrange(GlazingMaterials, OpaqueMaterials)\n",
    "OpaqueMaterials.index.name = '$id'"
   ]
  },
  {
   "cell_type": "code",
   "execution_count": null,
   "metadata": {},
   "outputs": [],
   "source": [
    "column_rename = {'Solar_Absorptance':'SolarAbsorptance',\n",
    "                'Specific_Heat':'SpecificHeat', \n",
    "                'Thermal_Absorptance':'ThermalEmittance',\n",
    "                'Thermal_Resistance':'ThermalResistance',\n",
    "                'Visible_Absorptance':'VisibleAbsorptance'}"
   ]
  },
  {
   "cell_type": "code",
   "execution_count": null,
   "metadata": {},
   "outputs": [],
   "source": [
    "OpaqueMaterials.rename(columns=column_rename, inplace=True)"
   ]
  },
  {
   "cell_type": "code",
   "execution_count": null,
   "metadata": {},
   "outputs": [],
   "source": [
    "OpaqueMaterials['Comment'] = 'default'\n",
    "OpaqueMaterials['Cost'] = 0\n",
    "OpaqueMaterials['DataSource'] = idf.idfobjects['BUILDING'].list2[0][1]\n",
    "OpaqueMaterials['EmbodiedCarbon'] = 0\n",
    "OpaqueMaterials['EmbodiedCarbonStdDev'] = 0\n",
    "OpaqueMaterials['EmbodiedEnergy'] = 0\n",
    "OpaqueMaterials['EmbodiedEnergyStdDev'] = 0\n",
    "OpaqueMaterials['Life'] = 1\n",
    "OpaqueMaterials['MoistureDiffusionResistance'] = 50\n",
    "OpaqueMaterials['PhaseChange'] = False\n",
    "OpaqueMaterials['PhaseChangeProperties'] = '' # ! Further investigation needed\n",
    "OpaqueMaterials['SubstitutionRatePattern'] = np.NaN # ! Might have to change to an empty array\n",
    "OpaqueMaterials['SubstitutionTimestep'] = 0\n",
    "OpaqueMaterials['TransportCarbon'] = 0\n",
    "OpaqueMaterials['TransportDistance'] = 0\n",
    "OpaqueMaterials['TransportEnergy'] = 0\n",
    "OpaqueMaterials['Type'] = '' # ! Further investigation necessary\n",
    "OpaqueMaterials['VariableConductivity'] = False\n",
    "OpaqueMaterials['VariableConductivityProperties'] = np.NaN # ! Further investigation necessary"
   ]
  },
  {
   "cell_type": "code",
   "execution_count": null,
   "metadata": {},
   "outputs": [],
   "source": [
    "OpaqueMaterials = OpaqueMaterials.drop(['key'], axis=1)"
   ]
  },
  {
   "cell_type": "code",
   "execution_count": null,
   "metadata": {},
   "outputs": [],
   "source": [
    "OpaqueMaterials"
   ]
  },
  {
   "cell_type": "markdown",
   "metadata": {},
   "source": [
    "## OpaqueConstructions"
   ]
  },
  {
   "cell_type": "code",
   "execution_count": null,
   "metadata": {},
   "outputs": [],
   "source": [
    "# Thermal Resistance : (m2-K)/W\n",
    "# Conductivity : W/(m-K)"
   ]
  },
  {
   "cell_type": "code",
   "execution_count": null,
   "metadata": {
    "scrolled": true
   },
   "outputs": [],
   "source": [
    "Constructions = []\n",
    "for idf in idfs:  \n",
    "    Construction = idf.idfobjects['CONSTRUCTION']\n",
    "    Construction = [get_values(frame) for frame in Construction]\n",
    "    Construction = pd.concat(Construction, ignore_index=True, sort=True)\n",
    "    Constructions.append(Construction)\n",
    "    Construction.index = newrange(OpaqueMaterials, Construction)\n",
    "Construction = pd.concat(Constructions, keys=keys, names=['Archetype','$id'])\n",
    "Construction = Construction.groupby('Name').first()\n",
    "Construction.reset_index(inplace=True)"
   ]
  },
  {
   "cell_type": "code",
   "execution_count": null,
   "metadata": {
    "scrolled": true
   },
   "outputs": [],
   "source": [
    "OpaqueConstructions_s = []\n",
    "for idf in idfs:\n",
    "    OpaqueConstructions = idf.idfobjects['BUILDINGSURFACE:DETAILED']\n",
    "    OpaqueConstructions = [get_values(frame) for frame in OpaqueConstructions]\n",
    "    OpaqueConstructions = pd.concat(OpaqueConstructions, ignore_index=True, sort=True)\n",
    "    OpaqueConstructions = OpaqueConstructions.merge(Construction, left_on='Construction_Name', right_on='Name')\n",
    "    OpaqueConstructions_s.append(OpaqueConstructions)\n",
    "OpaqueConstructions = pd.concat(OpaqueConstructions_s, keys=keys, names=['Archetype','$id'], sort=True)\n",
    "OpaqueConstructions = OpaqueConstructions.groupby('Construction_Name').first()\n",
    "OpaqueConstructions.reset_index(inplace=True)"
   ]
  },
  {
   "cell_type": "code",
   "execution_count": null,
   "metadata": {},
   "outputs": [],
   "source": [
    "OpaqueConstructions"
   ]
  },
  {
   "cell_type": "code",
   "execution_count": null,
   "metadata": {},
   "outputs": [],
   "source": [
    "def label_surface(row):\n",
    "    \"\"\"\n",
    "    This function adds the umi-Category column\n",
    "    \"\"\"\n",
    "    # Floors\n",
    "    if row['Surface_Type'] == 'Floor':\n",
    "        if row['Outside_Boundary_Condition'] == 'Surface':\n",
    "            return 'Interior Floor'\n",
    "        if row['Outside_Boundary_Condition'] == 'Ground':\n",
    "            return 'Ground Floor'\n",
    "        if row['Outside_Boundary_Condition'] == 'Outdoors':\n",
    "            return 'Exterior Floor'\n",
    "        else:\n",
    "            return 'Other'\n",
    "        \n",
    "    # Roofs & Ceilings\n",
    "    if row['Surface_Type'] == 'Roof':\n",
    "        return 'Roof'\n",
    "    if row['Surface_Type'] == 'Ceiling':\n",
    "        return 'Interior Floor'\n",
    "    # Walls\n",
    "    if row['Surface_Type'] == 'Wall':\n",
    "        if row['Outside_Boundary_Condition'] == 'Surface':\n",
    "            return 'Partition'\n",
    "        if row['Outside_Boundary_Condition'] == 'Outdoors':\n",
    "            return 'Facade'\n",
    "    return 'Other'"
   ]
  },
  {
   "cell_type": "code",
   "execution_count": null,
   "metadata": {},
   "outputs": [],
   "source": [
    "def type_surface(row):\n",
    "    \"\"\"\n",
    "    This function adds the umi-Type column\n",
    "    \"\"\"\n",
    "    # Floors\n",
    "    if row['Surface_Type'] == 'Floor':\n",
    "        if row['Outside_Boundary_Condition'] == 'Surface':\n",
    "            return 3\n",
    "        if row['Outside_Boundary_Condition'] == 'Ground':\n",
    "            return 2\n",
    "        if row['Outside_Boundary_Condition'] == 'Outdoors':\n",
    "            return 4\n",
    "        else:\n",
    "            return np.NaN\n",
    "        \n",
    "    # Roofs & Ceilings\n",
    "    if row['Surface_Type'] == 'Roof':\n",
    "        return 1\n",
    "    if row['Surface_Type'] == 'Ceiling':\n",
    "        return 3\n",
    "    # Walls\n",
    "    if row['Surface_Type'] == 'Wall':\n",
    "        if row['Outside_Boundary_Condition'] == 'Surface':\n",
    "            return 5\n",
    "        if row['Outside_Boundary_Condition'] == 'Outdoors':\n",
    "            return 0\n",
    "    return np.NaN"
   ]
  },
  {
   "cell_type": "code",
   "execution_count": null,
   "metadata": {},
   "outputs": [],
   "source": [
    "OpaqueConstructions['Category'] = OpaqueConstructions.apply(lambda x: label_surface(x), axis=1)\n",
    "OpaqueConstructions['Type'] = OpaqueConstructions.apply(lambda x: type_surface(x), axis=1)"
   ]
  },
  {
   "cell_type": "code",
   "execution_count": null,
   "metadata": {},
   "outputs": [],
   "source": [
    "# Lets group by `Construction_Name` to get a list of unique `Surface_Type` and `Outside_Boundary_Condition`.\n",
    "\n",
    "OpaqueConstructions = OpaqueConstructions.groupby('Construction_Name').first().reset_index()"
   ]
  },
  {
   "cell_type": "code",
   "execution_count": null,
   "metadata": {},
   "outputs": [],
   "source": [
    "def layer_composition(row, df):\n",
    "    # Assumes 10 max layers\n",
    "    layers = []\n",
    "    \n",
    "    # Let's start with the `Outside_Layer`\n",
    "    ref, thickness = get_row_prop(row, df, 'Outside_Layer', 'Thickness')\n",
    "    if thickness:\n",
    "        layers.append({'Material':{'$ref':ref,'thickness':thickness}})\n",
    "    else:\n",
    "        thickness = 0.001 # Very small tickness\n",
    "        layers.append({'Material':{'$ref':ref,'thickness':thickness}})\n",
    "    # Then we iterate over the other layers. The number of layers is unknow. Limited to 10 for now\n",
    "    for i in range(1,10):\n",
    "        try:\n",
    "            layer_name = 'Layer_{}'.format(i)\n",
    "            ref, thickness = get_row_prop(row, df, layer_name, 'Thickness')\n",
    "            if thickness:\n",
    "                layers.append({'Material':{'$ref':ref,'thickness':thickness}})\n",
    "            else:\n",
    "                thickness = 0.001 # Very small tickness\n",
    "                layers.append({'Material':{'$ref':ref,'thickness':thickness}})\n",
    "        except:\n",
    "            pass #\n",
    "    return layers"
   ]
  },
  {
   "cell_type": "code",
   "execution_count": null,
   "metadata": {},
   "outputs": [],
   "source": [
    "def get_row_prop(row, df, column_name, prop):\n",
    "    layer = df.loc[df['Name'] == row[column_name]]\n",
    "    ref = layer.index[0]\n",
    "    prop = layer[prop].values[0] # Very small tickness\n",
    "    return ref, prop"
   ]
  },
  {
   "cell_type": "code",
   "execution_count": null,
   "metadata": {},
   "outputs": [],
   "source": [
    "OpaqueConstructions['Layers'] = OpaqueConstructions.apply(lambda x: layer_composition(x, OpaqueMaterials), axis=1)"
   ]
  },
  {
   "cell_type": "code",
   "execution_count": null,
   "metadata": {},
   "outputs": [],
   "source": [
    "columns = ['Construction_Name', 'Category', 'Layers', 'Type']"
   ]
  },
  {
   "cell_type": "code",
   "execution_count": null,
   "metadata": {},
   "outputs": [],
   "source": [
    "OpaqueConstructions = OpaqueConstructions[columns]"
   ]
  },
  {
   "cell_type": "code",
   "execution_count": null,
   "metadata": {},
   "outputs": [],
   "source": [
    "OpaqueConstructions = OpaqueConstructions.rename(columns={'Construction_Name':'Name'})"
   ]
  },
  {
   "cell_type": "code",
   "execution_count": null,
   "metadata": {},
   "outputs": [],
   "source": [
    "OpaqueConstructions['AssemblyCarbon'] = 0\n",
    "OpaqueConstructions['AssemblyCost'] = 0\n",
    "OpaqueConstructions['AssemblyEnergy'] = 0\n",
    "OpaqueConstructions['Comments'] = 'default'\n",
    "OpaqueConstructions['DataSource'] = idf.idfobjects['BUILDING'].list2[0][1]\n",
    "OpaqueConstructions['DisassemblyCarbon'] = 0\n",
    "OpaqueConstructions['DisassemblyEnergy'] = 0"
   ]
  },
  {
   "cell_type": "code",
   "execution_count": null,
   "metadata": {},
   "outputs": [],
   "source": [
    "OpaqueConstructions.index = newrange(OpaqueMaterials,OpaqueConstructions)\n",
    "OpaqueConstructions.index.name = '$id'"
   ]
  },
  {
   "cell_type": "markdown",
   "metadata": {},
   "source": [
    "# WindowConstructions"
   ]
  },
  {
   "cell_type": "code",
   "execution_count": null,
   "metadata": {},
   "outputs": [],
   "source": [
    "WindowConstructions_s = []\n",
    "for idf in idfs: \n",
    "    WindowConstructions = idf.idfobjects['FENESTRATIONSURFACE:DETAILED']\n",
    "    WindowConstructions = [get_values(frame) for frame in WindowConstructions]\n",
    "    WindowConstructions = pd.concat(WindowConstructions, ignore_index=True, sort=True)\n",
    "    WindowConstructions = WindowConstructions.merge(Construction, left_on='Construction_Name', right_on='Name')\n",
    "    WindowConstructions_s.append(WindowConstructions)\n",
    "# Groupby `Construction_Name` to keep only unique Window Constructions\n",
    "WindowConstructions = pd.concat(WindowConstructions_s, keys=keys, names=['Archetype','$id'], sort=True)\n",
    "WindowConstructions = WindowConstructions.groupby(['Archetype','Construction_Name']).first()\n",
    "WindowConstructions.index = newrange(OpaqueConstructions,WindowConstructions)\n",
    "WindowConstructions.index.name = '$id'"
   ]
  },
  {
   "cell_type": "code",
   "execution_count": null,
   "metadata": {},
   "outputs": [],
   "source": [
    "idfs[0].idfobjects['FENESTRATIONSURFACE:DETAILED']"
   ]
  },
  {
   "cell_type": "markdown",
   "metadata": {},
   "source": [
    "# DaySchedules"
   ]
  },
  {
   "cell_type": "code",
   "execution_count": null,
   "metadata": {},
   "outputs": [],
   "source": [
    "from datetime import datetime, timedelta"
   ]
  },
  {
   "cell_type": "code",
   "execution_count": null,
   "metadata": {},
   "outputs": [],
   "source": [
    "DaySchedules = []\n",
    "for idf in idfs:\n",
    "    DaySchedule = idf.idfobjects['SCHEDULE:DAY:INTERVAL']\n",
    "    DaySchedule = [get_values(frame) for frame in DaySchedule]\n",
    "    DaySchedule = pd.concat(DaySchedule, ignore_index=True, sort=True)\n",
    "    DaySchedules.append(DaySchedule)\n",
    "DaySchedule = pd.concat(DaySchedules, keys=keys, names=['Archetype','$id'], sort=True)\n",
    "DaySchedule = DaySchedule.groupby('Name').first()\n",
    "DaySchedule.reset_index(inplace=True)\n",
    "DaySchedule.index = newrange(WindowConstructions, DaySchedule)\n",
    "DaySchedule.index.name = '$id'"
   ]
  },
  {
   "cell_type": "code",
   "execution_count": null,
   "metadata": {},
   "outputs": [],
   "source": [
    "def my_to_datetime(date_str):\n",
    "    if date_str[0:2] != '24':\n",
    "        return datetime.strptime(date_str, '%H:%M') - timedelta(hours=1)\n",
    "    return datetime.strptime('23:00', '%H:%M')"
   ]
  },
  {
   "cell_type": "code",
   "execution_count": null,
   "metadata": {},
   "outputs": [],
   "source": [
    "def time2time(row):\n",
    "    time_seg = []\n",
    "    for i in range(1,25):\n",
    "        time = row['Time_{}'.format(i)] # Time_i\n",
    "        value = row['Value_Until_Time_{}'.format(i)] # Value_Until_Time_i\n",
    "        if str(time) != 'nan' and str(value) != 'nan':\n",
    "#             print(time)\n",
    "            time = my_to_datetime(time).hour\n",
    "#             print(time)\n",
    "            times = np.ones(time+1) * float(value)\n",
    "            time_seg.append(times)\n",
    "    arrays = time_seg\n",
    "    array = time_seg[0]\n",
    "    length = len(arrays[0])\n",
    "    for i, a in enumerate(arrays):\n",
    "        if i != 0:\n",
    "            array = np.append(array, a[length-1:-1])\n",
    "            length = len(a)\n",
    "    return array"
   ]
  },
  {
   "cell_type": "code",
   "execution_count": null,
   "metadata": {},
   "outputs": [],
   "source": [
    "DaySchedule['Values'] = DaySchedule.apply(lambda x: time2time(x), axis=1)"
   ]
  },
  {
   "cell_type": "code",
   "execution_count": null,
   "metadata": {},
   "outputs": [],
   "source": [
    "DaySchedule = DaySchedule.loc[:,['Name', 'Values']]\n",
    "DaySchedule.loc[:,'Category'] = 'Day'\n",
    "DaySchedule.loc[:,'Comments'] = 'Comments'\n",
    "DaySchedule.loc[:,'DataSource'] = 'default'\n",
    "DaySchedule.loc[:,'Type'] = 'Fraction'\n",
    "DaySchedule"
   ]
  },
  {
   "cell_type": "code",
   "execution_count": null,
   "metadata": {},
   "outputs": [],
   "source": [
    "%matplotlib inline\n",
    "import matplotlib.pyplot as plt"
   ]
  },
  {
   "cell_type": "code",
   "execution_count": null,
   "metadata": {},
   "outputs": [],
   "source": [
    "# Plotting the schedules\n",
    "for aid, grp in DaySchedule.groupby(['Name']):\n",
    "    plt.plot(grp['Values'].values[0]) "
   ]
  },
  {
   "cell_type": "markdown",
   "metadata": {},
   "source": [
    "# WeekSchedule"
   ]
  },
  {
   "cell_type": "code",
   "execution_count": null,
   "metadata": {},
   "outputs": [],
   "source": [
    "WeekSchedules = []\n",
    "for idf in idfs:\n",
    "    WeekSchedule = idf.idfobjects['SCHEDULE:WEEK:DAILY']\n",
    "    WeekSchedule = [get_values(frame) for frame in WeekSchedule]\n",
    "    WeekSchedule = pd.concat(WeekSchedule, ignore_index=True, sort=True)\n",
    "    WeekSchedules.append(WeekSchedule)\n",
    "WeekSchedule = pd.concat(WeekSchedules, keys=keys, names=['Archetype','$id'], sort=True)\n",
    "WeekSchedule = WeekSchedule.groupby('Name').first()\n",
    "WeekSchedule.reset_index(inplace=True)"
   ]
  },
  {
   "cell_type": "code",
   "execution_count": null,
   "metadata": {},
   "outputs": [],
   "source": [
    "WeekSchedule"
   ]
  },
  {
   "cell_type": "code",
   "execution_count": null,
   "metadata": {},
   "outputs": [],
   "source": [
    "def schedule_composition(row, df):\n",
    "    # Assumes 7 days\n",
    "    day_schedules = []\n",
    "    days = ['Monday_ScheduleDay_Name',\n",
    "           'Tuesday_ScheduleDay_Name',\n",
    "           'Wednesday_ScheduleDay_Name',\n",
    "           'Thursday_ScheduleDay_Name',\n",
    "           'Friday_ScheduleDay_Name',\n",
    "           'Saturday_ScheduleDay_Name',\n",
    "           'Sunday_ScheduleDay_Name'] # With weekends last (as defined in umi-template)\n",
    "    # Let's start with the `Outside_Layer`\n",
    "    for day in days:\n",
    "        try:\n",
    "            ref, day_schedule = get_row_prop(row, df, day, 'Values')\n",
    "            day_schedules.append({'$ref':ref})\n",
    "        except:\n",
    "            pass\n",
    "    return day_schedules"
   ]
  },
  {
   "cell_type": "code",
   "execution_count": null,
   "metadata": {},
   "outputs": [],
   "source": [
    "WeekSchedule['Values'] = WeekSchedule.apply(lambda x: schedule_composition(x, DaySchedule), axis=1)"
   ]
  },
  {
   "cell_type": "code",
   "execution_count": null,
   "metadata": {
    "scrolled": true
   },
   "outputs": [],
   "source": [
    "WeekSchedule = WeekSchedule[['Name','Values']]\n",
    "WeekSchedule['Category'] = 'Week'\n",
    "WeekSchedule['Comments'] = 'default'\n",
    "WeekSchedule['DataSource'] = idf.idfobjects['BUILDING'].list2[0][1]"
   ]
  },
  {
   "cell_type": "code",
   "execution_count": null,
   "metadata": {
    "scrolled": true
   },
   "outputs": [],
   "source": [
    "WeekSchedule.index = newrange(DaySchedule, WeekSchedule)\n",
    "WeekSchedule.index.name = '$id'\n",
    "WeekSchedule"
   ]
  },
  {
   "cell_type": "markdown",
   "metadata": {},
   "source": [
    "# YearSchedules"
   ]
  },
  {
   "cell_type": "code",
   "execution_count": null,
   "metadata": {
    "scrolled": true
   },
   "outputs": [],
   "source": [
    "YearSchedules = []\n",
    "for idf in idfs:\n",
    "    YearSchedule = idf.idfobjects['SCHEDULE:YEAR']\n",
    "    YearSchedule = [get_values(frame) for frame in YearSchedule]\n",
    "    YearSchedule = pd.concat(YearSchedule, ignore_index=True, sort=True)\n",
    "    YearSchedules.append(YearSchedule)\n",
    "YearSchedule = pd.concat(YearSchedules, keys=keys, names=['Archetype','$id'], sort=True)\n",
    "YearSchedule = YearSchedule.groupby('Name').first()\n",
    "YearSchedule.reset_index(inplace=True)"
   ]
  },
  {
   "cell_type": "code",
   "execution_count": null,
   "metadata": {},
   "outputs": [],
   "source": [
    "def year_parts(row, df):\n",
    "    ref, prop = get_row_prop(row, df, 'ScheduleWeek_Name_1', 'Name')\n",
    "    fromday = row['Start_Day_1']\n",
    "    frommonth = row['Start_Month_1']\n",
    "    today = row['End_Day_1']\n",
    "    tomonth = row['End_Month_1']\n",
    "    parts = {'FromDay': fromday,\n",
    "             'FromMonth': frommonth,\n",
    "             'Schedule': {'$ref': ref},\n",
    "             'ToDay': today,\n",
    "             'ToMonth': tomonth}\n",
    "    return parts"
   ]
  },
  {
   "cell_type": "code",
   "execution_count": null,
   "metadata": {
    "scrolled": true
   },
   "outputs": [],
   "source": [
    "YearSchedule['Parts'] = YearSchedule.apply(lambda x: year_parts(x, WeekSchedule), axis=1)"
   ]
  },
  {
   "cell_type": "code",
   "execution_count": null,
   "metadata": {},
   "outputs": [],
   "source": [
    "YearSchedule"
   ]
  },
  {
   "cell_type": "code",
   "execution_count": null,
   "metadata": {},
   "outputs": [],
   "source": [
    "YearSchedule = YearSchedule[['Name', 'Schedule_Type_Limits_Name','Parts']]\n",
    "\n",
    "YearSchedule['Category'] = 'Year'\n",
    "YearSchedule['Comments'] = 'default'\n",
    "YearSchedule['DataSource'] = idf.idfobjects['BUILDING'].list2[0][1]\n",
    "\n",
    "YearSchedule.index = newrange(WeekSchedule, YearSchedule)\n",
    "YearSchedule.index.name = '$id'\n",
    "YearSchedule"
   ]
  },
  {
   "cell_type": "markdown",
   "metadata": {},
   "source": [
    "# Start of json READ"
   ]
  },
  {
   "cell_type": "markdown",
   "metadata": {},
   "source": [
    "At this point, the needed information is easier to acces in the `qacq` files (json format)"
   ]
  },
  {
   "cell_type": "code",
   "execution_count": null,
   "metadata": {},
   "outputs": [],
   "source": [
    "import json"
   ]
  },
  {
   "cell_type": "code",
   "execution_count": null,
   "metadata": {},
   "outputs": [],
   "source": [
    "files = glob.glob(\"data/necb/NECB_2011_Montreal/*.json\")"
   ]
  },
  {
   "cell_type": "code",
   "execution_count": null,
   "metadata": {
    "scrolled": true
   },
   "outputs": [],
   "source": [
    "# Reading the json as a dict\n",
    "qaqcs = []\n",
    "for file in files:\n",
    "    with open(file) as json_data:\n",
    "        qaqcs.append(json.load(json_data))\n",
    "\n",
    "all_qaqcs = {}\n",
    "for qaqc in qaqcs:\n",
    "    qaqc_dfs = {}\n",
    "    name = qaqc['building']['name']\n",
    "    for key in qaqc.keys():\n",
    "        if isinstance(qaqc[key], dict):\n",
    "            try:\n",
    "                qaqc_dfs[key] = pd.DataFrame.from_dict(qaqc[key])\n",
    "            except Exception as inst:\n",
    "                qaqc_dfs[key] = pd.DataFrame.from_dict([qaqc[key]])\n",
    "        elif isinstance(qaqc[key], list):\n",
    "            qaqc_dfs[key] = pd.DataFrame.from_dict(qaqc[key])\n",
    "        else:\n",
    "            qaqc_dfs[key] = qaqc[key]\n",
    "    all_qaqcs[name] = qaqc_dfs"
   ]
  },
  {
   "cell_type": "markdown",
   "metadata": {},
   "source": [
    "# Zones"
   ]
  },
  {
   "cell_type": "markdown",
   "metadata": {},
   "source": [
    "Zones can be identified by the term `horzontal_placement` (norht, south, east, west, core) in the NECB building definition [https://github.com/NREL/OpenStudio-Prototype-Buildings/blob/master/lib/btap/measures/btap_equest_converter/compliance.rb]"
   ]
  },
  {
   "cell_type": "code",
   "execution_count": null,
   "metadata": {},
   "outputs": [],
   "source": [
    "def iscore(row):\n",
    "    \"\"\"\n",
    "    Helps to group by core and perimeter zones\n",
    "    \"\"\"\n",
    "    if 'core' in row['thermal_zone'].lower(): # We look for the string `core` in the Zone_Name\n",
    "        return 'Core'\n",
    "    else:\n",
    "        return 'Perimeter'"
   ]
  },
  {
   "cell_type": "code",
   "execution_count": null,
   "metadata": {},
   "outputs": [],
   "source": [
    "Zones = []\n",
    "for qaqc in all_qaqcs.values():\n",
    "    Zone = qaqc['spaces']\n",
    "    Zones.append(Zone)\n",
    "Zones = pd.concat(Zones, keys=all_qaqcs.keys(), names=['Archetype','$id'], sort=True)\n",
    "Zones['Space_Type'] = Zones.apply(lambda x: iscore(x), axis=1)"
   ]
  },
  {
   "cell_type": "code",
   "execution_count": null,
   "metadata": {},
   "outputs": [],
   "source": [
    "def ach(row):\n",
    "    \"\"\"\n",
    "    Calculates Air changes per hour (ACH)\n",
    "    \"\"\"\n",
    "    q = row['infiltration_flow_m3_per_s']\n",
    "    V = row['volume']\n",
    "    if q > 0:\n",
    "        return 3600 * q / V\n",
    "    return np.NaN"
   ]
  },
  {
   "cell_type": "code",
   "execution_count": null,
   "metadata": {},
   "outputs": [],
   "source": [
    "# Calculating the infiltration flow by use of the area-infiltration flow times the exterior wall area\n",
    "Zones['infiltration_flow_m3_per_s'] = Zones['infiltration_flow_per_m2'] * Zones['exterior_wall_area']"
   ]
  },
  {
   "cell_type": "code",
   "execution_count": null,
   "metadata": {},
   "outputs": [],
   "source": [
    "Zones['air_changes_per_hour'] = Zones.apply(lambda x: ach(x), axis=1)"
   ]
  },
  {
   "cell_type": "code",
   "execution_count": null,
   "metadata": {},
   "outputs": [],
   "source": [
    "# Let's add the space area\n",
    "\n",
    "spacetype_area_breakdown = []\n",
    "for qaqc in all_qaqcs.values():\n",
    "    area = qaqc['spacetype_area_breakdown'].T.rename(columns={0:'Space_Area'})\n",
    "    spacetype_area_breakdown.append(area)\n",
    "spacetype_area_breakdown = pd.concat(spacetype_area_breakdown, axis=0, keys=all_qaqcs.keys(), names=['Archetype','space_type_name'], sort=True)"
   ]
  },
  {
   "cell_type": "code",
   "execution_count": null,
   "metadata": {},
   "outputs": [],
   "source": [
    "Zones['space_type_name'] = Zones['space_type_name'].str.replace(' ','_').str.lower()"
   ]
  },
  {
   "cell_type": "code",
   "execution_count": null,
   "metadata": {},
   "outputs": [],
   "source": [
    "Zones = Zones.reset_index().set_index(['Archetype','space_type_name']).merge(spacetype_area_breakdown, left_index=True, right_index=True, how='left')\n",
    "Zones = Zones.reset_index().set_index(['Archetype','$id'])"
   ]
  },
  {
   "cell_type": "code",
   "execution_count": null,
   "metadata": {},
   "outputs": [],
   "source": [
    "Zones"
   ]
  },
  {
   "cell_type": "code",
   "execution_count": null,
   "metadata": {},
   "outputs": [],
   "source": [
    "# Let's add a the `waterUseEquipment` as columns instead of the object they are in the DataFrame.\n",
    "# To do this, we merge a new dataframe that is created with the apply(pd.Series) function. This transforms\n",
    "# the dict stucture of each rows into a the differetn columns. The apply the Pd.Series fucntion twice because\n",
    "# the dicts are inside a list.\n",
    "\n",
    "Zones = Zones.join(Zones['waterUseEquipment'].apply(pd.Series)[0].apply(pd.Series), sort=True)"
   ]
  },
  {
   "cell_type": "code",
   "execution_count": null,
   "metadata": {},
   "outputs": [],
   "source": [
    "def weighted_mean(series):\n",
    "    \"\"\"\n",
    "    Evaluates a weighteed average while ignoring NaNs\n",
    "    \"\"\"\n",
    "    index = ~np.isnan(series)\n",
    "    if np.any(index):\n",
    "        weights=Zones.loc[series.index, 'volume'] * Zones.loc[series.index, 'multiplier']\n",
    "        weights=weights[index]\n",
    "        a = series[index]\n",
    "        return np.average(a, weights=weights)\n",
    "    return 0"
   ]
  },
  {
   "cell_type": "code",
   "execution_count": null,
   "metadata": {
    "scrolled": true
   },
   "outputs": [],
   "source": [
    "# Define a lambda function to compute the weighted mean:\n",
    "# wm = lambda x: np.average(~np.isnan(x), weights=(Zones.loc[x.index, 'volume'] * Zones.loc[x.index, 'multiplier'])[~np.isnan(x)])\n",
    "wu = lambda x: x.apply(pd.Series)\n",
    "# Define a dictionary with the functions to apply for a given column:\n",
    "f = {'air_changes_per_hour': {'weighted_mean' : weighted_mean},\n",
    "     'occ_per_m2' : {'weighted_mean' : weighted_mean},\n",
    "     'breathing_zone_outdoor_airflow_vbz' : {'weighted_mean' : weighted_mean},\n",
    "     'electric_w_per_m2' : {'weighted_mean' : weighted_mean},\n",
    "     'lighting_w_per_m2' : {'weighted_mean' : weighted_mean},\n",
    "     'peak_flow_rate_per_area' : {'weighted_mean' : weighted_mean},\n",
    "     'Space_Area' : {'sum' : 'sum'}\n",
    "    }\n",
    "\n",
    "# Groupby and aggregate with your dictionary:\n",
    "ZonesByType = Zones.groupby(['Archetype','Space_Type'], sort=True).agg(f).reset_index()\n",
    "ZonesByType['FlowRatePerFloorArea'] = ZonesByType['peak_flow_rate_per_area'] * 36000 # m3/s/m2 to m3/h/m2\n",
    "ZonesByType"
   ]
  },
  {
   "cell_type": "markdown",
   "metadata": {},
   "source": [
    "# DomesticHotWaterSettings"
   ]
  },
  {
   "cell_type": "code",
   "execution_count": null,
   "metadata": {},
   "outputs": [],
   "source": [
    "# Category\n",
    "# DataSource\n",
    "# FlowRatePerFloorArea\n",
    "# IsOn\n",
    "# Name\n",
    "# WaterSchedule.$ref - Source: Probably in idf file\n",
    "# WaterSupplyTemperature\n",
    "# WaterTemperatureInlet - Source: Probably in idf file\n",
    "DomesticHotWaterSettingsColumns = ['Category', 'DataSource', 'FlowRatePerFloorArea', 'IsOn', 'Name',\n",
    "       'WaterSchedule.$ref', 'WaterSupplyTemperature',\n",
    "       'WaterTemperatureInlet']\n",
    "# Creating a DataFrame\n",
    "\n",
    "possibleSchedules = DaySchedule[DaySchedule.Name.str.contains('Service Water Loop Temp', case=False)]\n",
    "\n",
    "# WaterSchedule.$ref\n",
    "WaterSchedule_ref = YearSchedule[YearSchedule.Name.str.contains('Service Water Loop Temp', case=False)].index\n",
    "\n",
    "# WaterSupplyTemperature\n",
    "waterschedule = DaySchedule.reset_index().set_index('Name').loc[possibleSchedules.Name.values,:]\n",
    "WaterSupplyTemperature = waterschedule.Values.mean().mean() # the first mean() averages possible multiple schedules, the second mean(gets the value\n",
    "\n",
    "# WaterTemperatureInlet - Source: Probably in idf file\n",
    "WaterTemperatureInlet = 8.0 # ! This needs to be investigated\n",
    "\n",
    "DomesticHotWaterSettings = ZonesByType.loc[:,['Archetype', 'Space_Type','FlowRatePerFloorArea']]\n",
    "DomesticHotWaterSettings.loc[:,'Category'] = DomesticHotWaterSettings['Space_Type']\n",
    "DomesticHotWaterSettings.loc[:,'IsOn'] = DomesticHotWaterSettings.apply(lambda x: x['FlowRatePerFloorArea'] > 0, axis=1)\n",
    "DomesticHotWaterSettings.loc[:,'Name'] = DomesticHotWaterSettings['Archetype'] + '_' + DomesticHotWaterSettings['Space_Type']\n",
    "DomesticHotWaterSettings.loc[:,'DataSource'] = DomesticHotWaterSettings['Archetype']\n",
    "DomesticHotWaterSettings.loc[:,'WaterSchedule.$ref'] = WaterSchedule_ref.values[0]\n",
    "DomesticHotWaterSettings.loc[:,'WaterSupplyTemperature'] = WaterSupplyTemperature\n",
    "DomesticHotWaterSettings.loc[:,'WaterTemperatureInlet'] = WaterTemperatureInlet\n",
    "DomesticHotWaterSettings.index = newrange(YearSchedule, DomesticHotWaterSettings)\n",
    "DomesticHotWaterSettings.index.name = '$id'\n",
    "DomesticHotWaterSettings = DomesticHotWaterSettings[DomesticHotWaterSettingsColumns]"
   ]
  },
  {
   "cell_type": "code",
   "execution_count": null,
   "metadata": {
    "scrolled": true
   },
   "outputs": [],
   "source": [
    "DomesticHotWaterSettings"
   ]
  },
  {
   "cell_type": "markdown",
   "metadata": {},
   "source": [
    "# VentilationSettings"
   ]
  },
  {
   "cell_type": "code",
   "execution_count": null,
   "metadata": {},
   "outputs": [],
   "source": [
    "# 'Afn',\n",
    "# 'Category',\n",
    "# 'DataSource',\n",
    "# 'Infiltration',\n",
    "# 'IsBuoyancyOn',\n",
    "# 'IsInfiltrationOn',\n",
    "# 'IsNatVentOn',\n",
    "# 'IsScheduledVentilationOn',\n",
    "# 'IsWindOn',\n",
    "# 'Name',\n",
    "# 'NatVentMaxOutdoorAirTemp',\n",
    "# 'NatVentMaxRelHumidity',\n",
    "# 'NatVentMinOutdoorAirTemp',\n",
    "# 'NatVentSchedule.$ref',\n",
    "# 'NatVentZoneTempSetpoint',\n",
    "# 'ScheduledVentilationAch',\n",
    "# 'ScheduledVentilationSchedule.$ref',\n",
    "# 'ScheduledVentilationSetpoint'\n",
    "\n",
    "VentilationSettingsSettingsColumns = ['Afn', 'Category', 'DataSource', 'Infiltration', 'IsBuoyancyOn',\n",
    "       'IsInfiltrationOn', 'IsNatVentOn', 'IsScheduledVentilationOn',\n",
    "       'IsWindOn', 'Name', 'NatVentMaxOutdoorAirTemp', 'NatVentMaxRelHumidity',\n",
    "       'NatVentMinOutdoorAirTemp', 'NatVentSchedule.$ref',\n",
    "       'NatVentZoneTempSetpoint', 'ScheduledVentilationAch',\n",
    "       'ScheduledVentilationSchedule.$ref', 'ScheduledVentilationSetpoint']"
   ]
  },
  {
   "cell_type": "code",
   "execution_count": null,
   "metadata": {},
   "outputs": [],
   "source": [
    "VentilationSettings = ZonesByType.loc[:,['Archetype', 'Space_Type']]"
   ]
  },
  {
   "cell_type": "code",
   "execution_count": null,
   "metadata": {},
   "outputs": [],
   "source": [
    "VentilationSettings.loc[:,'Infiltration'] = ZonesByType.loc[:,'air_changes_per_hour'].values\n",
    "VentilationSettings.loc[:,'IsBuoyancyOn'] = True\n",
    "VentilationSettings.loc[:,'IsInfiltrationOn'] = VentilationSettings.apply(lambda x: x.loc['Infiltration'] > 0, axis=1)\n",
    "VentilationSettings.loc[:,'IsNatVentOn'] = False\n",
    "VentilationSettings.loc[:,'IsScheduledVentilationOn'] = False\n",
    "VentilationSettings.loc[:,'IsWindOn'] = False\n",
    "VentilationSettings.loc[:,'Name'] = VentilationSettings['Archetype'] + '_' + VentilationSettings['Space_Type']\n",
    "VentilationSettings.loc[:,'NatVentMaxOutdoorAirTemp'] = 26.0\n",
    "VentilationSettings.loc[:,'NatVentMaxRelHumidity'] = 80.0\n",
    "VentilationSettings.loc[:,'NatVentMinOutdoorAirTemp'] = 18.0"
   ]
  },
  {
   "cell_type": "code",
   "execution_count": null,
   "metadata": {},
   "outputs": [],
   "source": [
    "VentilationSettings"
   ]
  },
  {
   "cell_type": "code",
   "execution_count": null,
   "metadata": {
    "scrolled": true
   },
   "outputs": [],
   "source": [
    "YearSchedule"
   ]
  },
  {
   "cell_type": "code",
   "execution_count": null,
   "metadata": {},
   "outputs": [],
   "source": []
  }
 ],
 "metadata": {
  "kernelspec": {
   "display_name": "Python 3",
   "language": "python",
   "name": "python3"
  },
  "language_info": {
   "codemirror_mode": {
    "name": "ipython",
    "version": 3
   },
   "file_extension": ".py",
   "mimetype": "text/x-python",
   "name": "python",
   "nbconvert_exporter": "python",
   "pygments_lexer": "ipython3",
   "version": "3.6.5"
  }
 },
 "nbformat": 4,
 "nbformat_minor": 2
}
