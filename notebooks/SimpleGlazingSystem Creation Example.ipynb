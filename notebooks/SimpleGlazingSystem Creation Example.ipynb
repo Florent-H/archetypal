{
 "cells": [
  {
   "cell_type": "markdown",
   "metadata": {},
   "source": [
    "# Simple Glazing System\n",
    "\n",
    "Creation of a simple glazing system is based on the same methodoly used in EnergyPlus ref: [SimpleGlazingSystem](https://bigladdersoftware.com/epx/docs/8-0/engineering-reference/page-043.html#simple-window-model)"
   ]
  },
  {
   "cell_type": "code",
   "execution_count": 2,
   "metadata": {},
   "outputs": [],
   "source": [
    "import pandas as pd\n",
    "import numpy as np\n",
    "import sys\n",
    "import os\n",
    "module_path = os.path.abspath(os.path.join('..'))\n",
    "if module_path not in sys.path:\n",
    "    sys.path.append(module_path)\n",
    "import pyumi as pu"
   ]
  },
  {
   "cell_type": "markdown",
   "metadata": {},
   "source": [
    "## Example\n",
    "Simply provide shgc, "
   ]
  },
  {
   "cell_type": "code",
   "execution_count": 5,
   "metadata": {},
   "outputs": [
    {
     "data": {
      "text/plain": [
       "{'Comment': 'Properties calculated from Simple Glazing System',\n",
       " 'Conductivity': 0.11992503503877955,\n",
       " 'Cost': 0,\n",
       " 'Density': 2500,\n",
       " 'DirtFactor': 1.0,\n",
       " 'EmbodiedCarbon': 0,\n",
       " 'EmbodiedCarbonStdDev': 0,\n",
       " 'EmbodiedEnergy': 0,\n",
       " 'EmbodiedEnergyStdDev': 0,\n",
       " 'IREmissivityBack': 0.84,\n",
       " 'IREmissivityFront': 0.84,\n",
       " 'IRTransmittance': 0.0,\n",
       " 'Life': 1,\n",
       " 'SolarReflectanceBack': 0.29216677281753756,\n",
       " 'SolarReflectanceFront': 0.29216677281753756,\n",
       " 'SolarTransmittance': 0.5242934,\n",
       " 'SubstitutionRatePattern': nan,\n",
       " 'SubstitutionTimestep': 0,\n",
       " 'Thickness': 0.033826776928982075,\n",
       " 'TransportCarbon': 0,\n",
       " 'TransportDistance': 0,\n",
       " 'TransportEnergy': 0,\n",
       " 'Type': 'Uncoated',\n",
       " 'VisibleReflectanceBack': 0.2624612351,\n",
       " 'VisibleReflectanceFront': 0.1706365358,\n",
       " 'VisibleTransmittance': 0.21}"
      ]
     },
     "execution_count": 5,
     "metadata": {},
     "output_type": "execute_result"
    }
   ],
   "source": [
    "glazing = pu.simple_glazing(0.6, 2.2, 0.21)\n",
    "glazing"
   ]
  },
  {
   "cell_type": "markdown",
   "metadata": {},
   "source": [
    "report values using name of property, eg.:"
   ]
  },
  {
   "cell_type": "code",
   "execution_count": 6,
   "metadata": {},
   "outputs": [
    {
     "data": {
      "text/plain": [
       "0.11992503503877955"
      ]
     },
     "execution_count": 6,
     "metadata": {},
     "output_type": "execute_result"
    }
   ],
   "source": [
    "glazing['Conductivity']"
   ]
  },
  {
   "cell_type": "code",
   "execution_count": null,
   "metadata": {},
   "outputs": [],
   "source": []
  }
 ],
 "metadata": {
  "kernelspec": {
   "display_name": "Python 3",
   "language": "python",
   "name": "python3"
  },
  "language_info": {
   "codemirror_mode": {
    "name": "ipython",
    "version": 3
   },
   "file_extension": ".py",
   "mimetype": "text/x-python",
   "name": "python",
   "nbconvert_exporter": "python",
   "pygments_lexer": "ipython3",
   "version": "3.6.3"
  }
 },
 "nbformat": 4,
 "nbformat_minor": 2
}
