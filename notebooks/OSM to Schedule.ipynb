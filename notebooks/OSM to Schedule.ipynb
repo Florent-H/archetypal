{
 "cells": [
  {
   "cell_type": "code",
   "execution_count": 1,
   "metadata": {},
   "outputs": [],
   "source": [
    "import pandas as pd\n",
    "import glob\n",
    "import json"
   ]
  },
  {
   "cell_type": "code",
   "execution_count": 2,
   "metadata": {},
   "outputs": [],
   "source": [
    "files = glob.glob(\"NECB_2011_Montreal/*.json\")"
   ]
  },
  {
   "cell_type": "code",
   "execution_count": 3,
   "metadata": {},
   "outputs": [],
   "source": [
    "# Reading the json as a dict\n",
    "with open(files[0]) as json_data:\n",
    "    data = json.load(json_data)"
   ]
  },
  {
   "cell_type": "code",
   "execution_count": 4,
   "metadata": {
    "scrolled": true
   },
   "outputs": [
    {
     "data": {
      "text/plain": [
       "['os_standards_revision',\n",
       " 'os_standards_version',\n",
       " 'openstudio_version',\n",
       " 'energyplus_version',\n",
       " 'date',\n",
       " 'building',\n",
       " 'geography',\n",
       " 'spacetype_area_breakdown',\n",
       " 'economics',\n",
       " 'end_uses',\n",
       " 'end_uses_eui',\n",
       " 'meter_peaks',\n",
       " 'unmet_hours',\n",
       " 'service_water_heating',\n",
       " 'envelope',\n",
       " 'spaces',\n",
       " 'thermal_zones',\n",
       " 'air_loops',\n",
       " 'plant_loops',\n",
       " 'eplusout_err',\n",
       " 'ruby_warnings',\n",
       " 'information',\n",
       " 'warnings',\n",
       " 'errors',\n",
       " 'unique_errors',\n",
       " 'sanity_check']"
      ]
     },
     "execution_count": 4,
     "metadata": {},
     "output_type": "execute_result"
    }
   ],
   "source": [
    "list(data.keys())"
   ]
  },
  {
   "cell_type": "code",
   "execution_count": 28,
   "metadata": {},
   "outputs": [
    {
     "data": {
      "text/plain": [
       "dict_keys(['exterior_fenestration', 'exterior_opaque', 'ground'])"
      ]
     },
     "execution_count": 28,
     "metadata": {},
     "output_type": "execute_result"
    }
   ],
   "source": [
    "data['envelope']['constructions'].keys()"
   ]
  },
  {
   "cell_type": "code",
   "execution_count": 29,
   "metadata": {},
   "outputs": [],
   "source": [
    "exterior_opaque = data['envelope']['constructions']['exterior_opaque']"
   ]
  },
  {
   "cell_type": "code",
   "execution_count": 31,
   "metadata": {},
   "outputs": [
    {
     "data": {
      "text/html": [
       "<div>\n",
       "<style scoped>\n",
       "    .dataframe tbody tr th:only-of-type {\n",
       "        vertical-align: middle;\n",
       "    }\n",
       "\n",
       "    .dataframe tbody tr th {\n",
       "        vertical-align: top;\n",
       "    }\n",
       "\n",
       "    .dataframe thead th {\n",
       "        text-align: right;\n",
       "    }\n",
       "</style>\n",
       "<table border=\"1\" class=\"dataframe\">\n",
       "  <thead>\n",
       "    <tr style=\"text-align: right;\">\n",
       "      <th></th>\n",
       "      <th>name</th>\n",
       "      <th>net_area_m2</th>\n",
       "      <th>solar_absorptance</th>\n",
       "      <th>thermal_conductance_m2_w_per_k</th>\n",
       "    </tr>\n",
       "  </thead>\n",
       "  <tbody>\n",
       "    <tr>\n",
       "      <th>0</th>\n",
       "      <td>Customized opaque construction {a9ebca0a-3afd-...</td>\n",
       "      <td>2090.32</td>\n",
       "      <td>0.70</td>\n",
       "      <td>0.183</td>\n",
       "    </tr>\n",
       "    <tr>\n",
       "      <th>1</th>\n",
       "      <td>Customized opaque construction {b0f1cbef-7289-...</td>\n",
       "      <td>1013.28</td>\n",
       "      <td>0.92</td>\n",
       "      <td>0.247</td>\n",
       "    </tr>\n",
       "  </tbody>\n",
       "</table>\n",
       "</div>"
      ],
      "text/plain": [
       "                                                name  net_area_m2  \\\n",
       "0  Customized opaque construction {a9ebca0a-3afd-...      2090.32   \n",
       "1  Customized opaque construction {b0f1cbef-7289-...      1013.28   \n",
       "\n",
       "   solar_absorptance  thermal_conductance_m2_w_per_k  \n",
       "0               0.70                           0.183  \n",
       "1               0.92                           0.247  "
      ]
     },
     "execution_count": 31,
     "metadata": {},
     "output_type": "execute_result"
    }
   ],
   "source": [
    "OpaqueMaterials = pd.DataFrame.from_dict(exterior_opaque)\n",
    "OpaqueMaterials"
   ]
  },
  {
   "cell_type": "code",
   "execution_count": 18,
   "metadata": {},
   "outputs": [
    {
     "data": {
      "text/html": [
       "<div>\n",
       "<style scoped>\n",
       "    .dataframe tbody tr th:only-of-type {\n",
       "        vertical-align: middle;\n",
       "    }\n",
       "\n",
       "    .dataframe tbody tr th {\n",
       "        vertical-align: top;\n",
       "    }\n",
       "\n",
       "    .dataframe thead th {\n",
       "        text-align: right;\n",
       "    }\n",
       "</style>\n",
       "<table border=\"1\" class=\"dataframe\">\n",
       "  <thead>\n",
       "    <tr style=\"text-align: right;\">\n",
       "      <th></th>\n",
       "      <th>Name</th>\n",
       "      <th>net_area_m2</th>\n",
       "      <th>SolarAbsorptance</th>\n",
       "      <th>Conductivity</th>\n",
       "    </tr>\n",
       "  </thead>\n",
       "  <tbody>\n",
       "    <tr>\n",
       "      <th>0</th>\n",
       "      <td>Customized opaque construction {a9ebca0a-3afd-...</td>\n",
       "      <td>2090.32</td>\n",
       "      <td>0.70</td>\n",
       "      <td>0.183</td>\n",
       "    </tr>\n",
       "    <tr>\n",
       "      <th>1</th>\n",
       "      <td>Customized opaque construction {b0f1cbef-7289-...</td>\n",
       "      <td>1013.28</td>\n",
       "      <td>0.92</td>\n",
       "      <td>0.247</td>\n",
       "    </tr>\n",
       "  </tbody>\n",
       "</table>\n",
       "</div>"
      ],
      "text/plain": [
       "                                                Name  net_area_m2  \\\n",
       "0  Customized opaque construction {a9ebca0a-3afd-...      2090.32   \n",
       "1  Customized opaque construction {b0f1cbef-7289-...      1013.28   \n",
       "\n",
       "   SolarAbsorptance  Conductivity  \n",
       "0              0.70         0.183  \n",
       "1              0.92         0.247  "
      ]
     },
     "execution_count": 18,
     "metadata": {},
     "output_type": "execute_result"
    }
   ],
   "source": [
    "OpaqueMaterials.rename(columns = {'name':'Name','solar_absorptance':'SolarAbsorptance','thermal_conductance_m2_w_per_k':'Conductivity'})"
   ]
  },
  {
   "cell_type": "code",
   "execution_count": 16,
   "metadata": {},
   "outputs": [
    {
     "data": {
      "text/html": [
       "<div>\n",
       "<style scoped>\n",
       "    .dataframe tbody tr th:only-of-type {\n",
       "        vertical-align: middle;\n",
       "    }\n",
       "\n",
       "    .dataframe tbody tr th {\n",
       "        vertical-align: top;\n",
       "    }\n",
       "\n",
       "    .dataframe thead th {\n",
       "        text-align: right;\n",
       "    }\n",
       "</style>\n",
       "<table border=\"1\" class=\"dataframe\">\n",
       "  <thead>\n",
       "    <tr style=\"text-align: right;\">\n",
       "      <th></th>\n",
       "      <th>Category</th>\n",
       "    </tr>\n",
       "  </thead>\n",
       "  <tbody>\n",
       "  </tbody>\n",
       "</table>\n",
       "</div>"
      ],
      "text/plain": [
       "Empty DataFrame\n",
       "Columns: [Category]\n",
       "Index: []"
      ]
     },
     "execution_count": 16,
     "metadata": {},
     "output_type": "execute_result"
    }
   ],
   "source": [
    "pd.DataFrame([], columns=['Category'])"
   ]
  },
  {
   "cell_type": "code",
   "execution_count": null,
   "metadata": {},
   "outputs": [],
   "source": []
  }
 ],
 "metadata": {
  "kernelspec": {
   "display_name": "Python 3",
   "language": "python",
   "name": "python3"
  },
  "language_info": {
   "codemirror_mode": {
    "name": "ipython",
    "version": 3
   },
   "file_extension": ".py",
   "mimetype": "text/x-python",
   "name": "python",
   "nbconvert_exporter": "python",
   "pygments_lexer": "ipython3",
   "version": "3.6.3"
  }
 },
 "nbformat": 4,
 "nbformat_minor": 2
}
