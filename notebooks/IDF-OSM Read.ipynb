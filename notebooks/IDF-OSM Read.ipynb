{
 "cells": [
  {
   "cell_type": "code",
   "execution_count": 1,
   "metadata": {
    "scrolled": true
   },
   "outputs": [
    {
     "ename": "ModuleNotFoundError",
     "evalue": "No module named 'pyumi.load_umi_template'",
     "output_type": "error",
     "traceback": [
      "\u001b[0;31m---------------------------------------------------------------------------\u001b[0m",
      "\u001b[0;31mModuleNotFoundError\u001b[0m                       Traceback (most recent call last)",
      "\u001b[0;32m<ipython-input-1-086666dcac29>\u001b[0m in \u001b[0;36m<module>\u001b[0;34m()\u001b[0m\n\u001b[1;32m      8\u001b[0m \u001b[0;32mif\u001b[0m \u001b[0mmodule_path\u001b[0m \u001b[0;32mnot\u001b[0m \u001b[0;32min\u001b[0m \u001b[0msys\u001b[0m\u001b[0;34m.\u001b[0m\u001b[0mpath\u001b[0m\u001b[0;34m:\u001b[0m\u001b[0;34m\u001b[0m\u001b[0m\n\u001b[1;32m      9\u001b[0m     \u001b[0msys\u001b[0m\u001b[0;34m.\u001b[0m\u001b[0mpath\u001b[0m\u001b[0;34m.\u001b[0m\u001b[0mappend\u001b[0m\u001b[0;34m(\u001b[0m\u001b[0mmodule_path\u001b[0m\u001b[0;34m)\u001b[0m\u001b[0;34m\u001b[0m\u001b[0m\n\u001b[0;32m---> 10\u001b[0;31m \u001b[0;32mimport\u001b[0m \u001b[0mpyumi\u001b[0m \u001b[0;32mas\u001b[0m \u001b[0mpu\u001b[0m\u001b[0;34m\u001b[0m\u001b[0m\n\u001b[0m",
      "\u001b[0;32m~/Dropbox/Polytechnique/Doc/software/pyumi/pyumi/__init__.py\u001b[0m in \u001b[0;36m<module>\u001b[0;34m()\u001b[0m\n\u001b[0;32m----> 1\u001b[0;31m \u001b[0;32mfrom\u001b[0m \u001b[0;34m.\u001b[0m\u001b[0mload_umi_template\u001b[0m \u001b[0;32mimport\u001b[0m \u001b[0;34m*\u001b[0m\u001b[0;34m\u001b[0m\u001b[0m\n\u001b[0m\u001b[1;32m      2\u001b[0m \u001b[0;32mfrom\u001b[0m \u001b[0;34m.\u001b[0m\u001b[0msimple_glazing\u001b[0m \u001b[0;32mimport\u001b[0m \u001b[0;34m*\u001b[0m\u001b[0;34m\u001b[0m\u001b[0m\n\u001b[1;32m      3\u001b[0m \u001b[0;32mfrom\u001b[0m \u001b[0;34m.\u001b[0m\u001b[0midf\u001b[0m \u001b[0;32mimport\u001b[0m \u001b[0;34m*\u001b[0m\u001b[0;34m\u001b[0m\u001b[0m\n\u001b[1;32m      4\u001b[0m \u001b[0;32mfrom\u001b[0m \u001b[0;34m.\u001b[0m\u001b[0mutils\u001b[0m \u001b[0;32mimport\u001b[0m \u001b[0;34m*\u001b[0m\u001b[0;34m\u001b[0m\u001b[0m\n\u001b[1;32m      5\u001b[0m \u001b[0;32mfrom\u001b[0m \u001b[0;34m.\u001b[0m\u001b[0msettings\u001b[0m \u001b[0;32mimport\u001b[0m \u001b[0;34m*\u001b[0m\u001b[0;34m\u001b[0m\u001b[0m\n",
      "\u001b[0;31mModuleNotFoundError\u001b[0m: No module named 'pyumi.load_umi_template'"
     ]
    }
   ],
   "source": [
    "from eppy.modeleditor import IDF\n",
    "import glob\n",
    "import pandas as pd\n",
    "import numpy as np\n",
    "import os\n",
    "import sys\n",
    "module_path = os.path.abspath(os.path.join('..'))\n",
    "if module_path not in sys.path:\n",
    "    sys.path.append(module_path)\n",
    "import pyumi as pu"
   ]
  },
  {
   "cell_type": "code",
   "execution_count": 9,
   "metadata": {},
   "outputs": [
    {
     "name": "stderr",
     "output_type": "stream",
     "text": [
      "INFO:pyumi-log:Configured pyumi\n"
     ]
    }
   ],
   "source": [
    "pu.config(log_console=True, log_file=True)"
   ]
  },
  {
   "cell_type": "markdown",
   "metadata": {},
   "source": [
    "List of idf files to parse"
   ]
  },
  {
   "cell_type": "code",
   "execution_count": 12,
   "metadata": {},
   "outputs": [
    {
     "data": {
      "text/plain": [
       "['../data/necb/NECB_2011_Montreal_idf/NECB 2011-HighriseApartment-NECB HDD Method-CAN_PQ_Montreal.Intl.AP.716270_CWEC.epw.idf',\n",
       " '../data/necb/NECB_2011_Montreal_idf/NECB 2011-LargeHotel-NECB HDD Method-CAN_PQ_Montreal.Intl.AP.716270_CWEC.epw.idf',\n",
       " '../data/necb/NECB_2011_Montreal_idf/NECB 2011-PrimarySchool-NECB HDD Method-CAN_PQ_Montreal.Intl.AP.716270_CWEC.epw.idf',\n",
       " '../data/necb/NECB_2011_Montreal_idf/NECB 2011-LargeOffice-NECB HDD Method-CAN_PQ_Montreal.Intl.AP.716270_CWEC.epw.idf',\n",
       " '../data/necb/NECB_2011_Montreal_idf/NECB 2011-Hospital-NECB HDD Method-CAN_PQ_Montreal.Intl.AP.716270_CWEC.epw.idf',\n",
       " '../data/necb/NECB_2011_Montreal_idf/NECB 2011-FullServiceRestaurant-NECB HDD Method-CAN_PQ_Montreal.Intl.AP.716270_CWEC.epw.idf']"
      ]
     },
     "execution_count": 12,
     "metadata": {},
     "output_type": "execute_result"
    }
   ],
   "source": [
    "files = glob.glob(\"../data/necb/NECB_2011_Montreal_idf/*.idf\")\n",
    "files"
   ]
  },
  {
   "cell_type": "markdown",
   "metadata": {},
   "source": [
    "The following takes the lisf of idf files and uses the `eppy.modeleditor` package to parse the EnergyPlus objects"
   ]
  },
  {
   "cell_type": "code",
   "execution_count": 15,
   "metadata": {},
   "outputs": [],
   "source": [
    "idfs = []\n",
    "# Windows\n",
    "# iddfile = \"C:\\openstudio-2.5.2\\EnergyPlus\\Energy+.idd\"\n",
    "# Mac\n",
    "iddfile = \"/Applications/OpenStudio-2.5.0/EnergyPlus/Energy+.idd\"\n",
    "IDF.setiddname(iddfile)\n",
    "for file in files:\n",
    "    idfs.append(IDF(file))"
   ]
  },
  {
   "cell_type": "markdown",
   "metadata": {},
   "source": [
    "Then we create a list of archtype names. These keys are used on the `parse_idfs` function. Uncomment the last line and rerun cell to show."
   ]
  },
  {
   "cell_type": "code",
   "execution_count": 16,
   "metadata": {},
   "outputs": [
    {
     "data": {
      "text/plain": [
       "['NECB 2011-HighriseApartment-NECB HDD Method-CAN_PQ_Montreal.Intl.AP.716270_CWEC.epw created: 2017-06-30 13:16:17 +0000',\n",
       " 'NECB 2011-LargeHotel-NECB HDD Method-CAN_PQ_Montreal.Intl.AP.716270_CWEC.epw created: 2017-06-30 14:03:31 +0000',\n",
       " 'NECB 2011-PrimarySchool-NECB HDD Method-CAN_PQ_Montreal.Intl.AP.716270_CWEC.epw created: 2017-06-30 15:40:21 +0000',\n",
       " 'NECB 2011-LargeOffice-NECB HDD Method-CAN_PQ_Montreal.Intl.AP.716270_CWEC.epw created: 2017-06-30 14:12:57 +0000',\n",
       " 'NECB 2011-Hospital-NECB HDD Method-CAN_PQ_Montreal.Intl.AP.716270_CWEC.epw created: 2017-06-30 13:41:30 +0000',\n",
       " 'NECB 2011-FullServiceRestaurant-NECB HDD Method-CAN_PQ_Montreal.Intl.AP.716270_CWEC.epw created: 2017-06-30 12:56:38 +0000']"
      ]
     },
     "execution_count": 16,
     "metadata": {},
     "output_type": "execute_result"
    }
   ],
   "source": [
    "keys = [idf.idfobjects['BUILDING'][0].Name for idf in idfs]\n",
    "keys"
   ]
  },
  {
   "cell_type": "markdown",
   "metadata": {},
   "source": [
    "## GasMaterials"
   ]
  },
  {
   "cell_type": "code",
   "execution_count": 17,
   "metadata": {},
   "outputs": [],
   "source": [
    "GasMaterials = pu.parse_idfs(idfs, 'WINDOWMATERIAL:GAS')"
   ]
  },
  {
   "cell_type": "code",
   "execution_count": 18,
   "metadata": {},
   "outputs": [],
   "source": [
    "GasMaterials['Cost'] = 0\n",
    "GasMaterials['EmbodiedCarbon'] = 0\n",
    "GasMaterials['EmbodiedCarbonStdDev'] = 0\n",
    "GasMaterials['EmbodiedEnergy'] = 0\n",
    "GasMaterials['EmbodiedEnergyStdDev'] = 0\n",
    "GasMaterials['SubstitutionRatePattern'] = np.NaN # ! Might have to change to an empty array\n",
    "GasMaterials['SubstitutionTimestep'] = 0\n",
    "GasMaterials['TransportCarbon'] = 0\n",
    "GasMaterials['TransportDistance'] = 0\n",
    "GasMaterials['TransportEnergy'] = 0"
   ]
  },
  {
   "cell_type": "code",
   "execution_count": 19,
   "metadata": {},
   "outputs": [],
   "source": [
    "def gas_type(row):\n",
    "    if 'air' in row['Gas_Type'].lower():\n",
    "        return 0\n",
    "    elif 'argon' in row['Gas_Type']:\n",
    "        return 1\n",
    "    elif 'krypton' in row['Gas_Type'].lower():\n",
    "        return 2\n",
    "    elif 'xenon' in row['Gas_Type'].lower():\n",
    "        return 3\n",
    "    elif 'sf6' in row['Gas_Type'].lower():\n",
    "        return 4"
   ]
  },
  {
   "cell_type": "code",
   "execution_count": 20,
   "metadata": {},
   "outputs": [],
   "source": [
    "# Add GasType Column based on previous function\n",
    "GasMaterials['GasType'] = GasMaterials.apply(lambda x: gas_type(x), axis=1)"
   ]
  },
  {
   "cell_type": "code",
   "execution_count": 21,
   "metadata": {},
   "outputs": [],
   "source": [
    "# Remove unnecessary columns\n",
    "GasMaterials.drop(['key','Gas_Type', 'Thickness'], axis=1, inplace=True)"
   ]
  },
  {
   "cell_type": "code",
   "execution_count": 22,
   "metadata": {},
   "outputs": [
    {
     "data": {
      "text/html": [
       "<div>\n",
       "<style scoped>\n",
       "    .dataframe tbody tr th:only-of-type {\n",
       "        vertical-align: middle;\n",
       "    }\n",
       "\n",
       "    .dataframe tbody tr th {\n",
       "        vertical-align: top;\n",
       "    }\n",
       "\n",
       "    .dataframe thead th {\n",
       "        text-align: right;\n",
       "    }\n",
       "</style>\n",
       "<table border=\"1\" class=\"dataframe\">\n",
       "  <thead>\n",
       "    <tr style=\"text-align: right;\">\n",
       "      <th></th>\n",
       "      <th>Name</th>\n",
       "      <th>Cost</th>\n",
       "      <th>EmbodiedCarbon</th>\n",
       "      <th>EmbodiedCarbonStdDev</th>\n",
       "      <th>EmbodiedEnergy</th>\n",
       "      <th>EmbodiedEnergyStdDev</th>\n",
       "      <th>SubstitutionRatePattern</th>\n",
       "      <th>SubstitutionTimestep</th>\n",
       "      <th>TransportCarbon</th>\n",
       "      <th>TransportDistance</th>\n",
       "      <th>TransportEnergy</th>\n",
       "      <th>GasType</th>\n",
       "    </tr>\n",
       "    <tr>\n",
       "      <th>$id</th>\n",
       "      <th></th>\n",
       "      <th></th>\n",
       "      <th></th>\n",
       "      <th></th>\n",
       "      <th></th>\n",
       "      <th></th>\n",
       "      <th></th>\n",
       "      <th></th>\n",
       "      <th></th>\n",
       "      <th></th>\n",
       "      <th></th>\n",
       "      <th></th>\n",
       "    </tr>\n",
       "  </thead>\n",
       "  <tbody>\n",
       "    <tr>\n",
       "      <th>0</th>\n",
       "      <td>AIR 13MM</td>\n",
       "      <td>0</td>\n",
       "      <td>0</td>\n",
       "      <td>0</td>\n",
       "      <td>0</td>\n",
       "      <td>0</td>\n",
       "      <td>NaN</td>\n",
       "      <td>0</td>\n",
       "      <td>0</td>\n",
       "      <td>0</td>\n",
       "      <td>0</td>\n",
       "      <td>0</td>\n",
       "    </tr>\n",
       "    <tr>\n",
       "      <th>1</th>\n",
       "      <td>AIR 6MM</td>\n",
       "      <td>0</td>\n",
       "      <td>0</td>\n",
       "      <td>0</td>\n",
       "      <td>0</td>\n",
       "      <td>0</td>\n",
       "      <td>NaN</td>\n",
       "      <td>0</td>\n",
       "      <td>0</td>\n",
       "      <td>0</td>\n",
       "      <td>0</td>\n",
       "      <td>0</td>\n",
       "    </tr>\n",
       "  </tbody>\n",
       "</table>\n",
       "</div>"
      ],
      "text/plain": [
       "         Name  Cost  EmbodiedCarbon  EmbodiedCarbonStdDev  EmbodiedEnergy  \\\n",
       "$id                                                                         \n",
       "0    AIR 13MM     0               0                     0               0   \n",
       "1     AIR 6MM     0               0                     0               0   \n",
       "\n",
       "     EmbodiedEnergyStdDev  SubstitutionRatePattern  SubstitutionTimestep  \\\n",
       "$id                                                                        \n",
       "0                       0                      NaN                     0   \n",
       "1                       0                      NaN                     0   \n",
       "\n",
       "     TransportCarbon  TransportDistance  TransportEnergy  GasType  \n",
       "$id                                                                \n",
       "0                  0                  0                0        0  \n",
       "1                  0                  0                0        0  "
      ]
     },
     "execution_count": 22,
     "metadata": {},
     "output_type": "execute_result"
    }
   ],
   "source": [
    "GasMaterials"
   ]
  },
  {
   "cell_type": "code",
   "execution_count": null,
   "metadata": {},
   "outputs": [],
   "source": [
    "def newrange(previous, following):\n",
    "    From = previous.iloc[[-1]].index.values + 1\n",
    "    To = From + len(following)\n",
    "    return np.arange(From, To)"
   ]
  },
  {
   "cell_type": "markdown",
   "metadata": {},
   "source": [
    "## GlazingMaterials"
   ]
  },
  {
   "cell_type": "markdown",
   "metadata": {},
   "source": [
    "#### WindowMaterial"
   ]
  },
  {
   "cell_type": "code",
   "execution_count": null,
   "metadata": {},
   "outputs": [],
   "source": [
    "WindowMaterial_Glazing = pu.parse_idfs(idfs, 'WINDOWMATERIAL:GLAZING', keys)"
   ]
  },
  {
   "cell_type": "code",
   "execution_count": null,
   "metadata": {},
   "outputs": [],
   "source": [
    "column_rename = {'Optical_Data_Type':'Optical',\n",
    "                'Window_Glass_Spectral_Data_Set_Name':'OpticalData',\n",
    "                'Solar_Transmittance_at_Normal_Incidence':'SolarTransmittance',\n",
    "                'Front_Side_Solar_Reflectance_at_Normal_Incidence':'SolarReflectanceFront',\n",
    "                'Back_Side_Solar_Reflectance_at_Normal_Incidence':'SolarReflectanceBack',\n",
    "                'Infrared_Transmittance_at_Normal_Incidence':'IRTransmittance',\n",
    "                'Visible_Transmittance_at_Normal_Incidence':'VisibleTransmittance',\n",
    "                'Front_Side_Visible_Reflectance_at_Normal_Incidence':'VisibleReflectanceFront',\n",
    "                'Back_Side_Visible_Reflectance_at_Normal_Incidence':'VisibleReflectanceBack',\n",
    "                'Front_Side_Infrared_Hemispherical_Emissivity':'IREmissivityFront',\n",
    "                'Back_Side_Infrared_Hemispherical_Emissivity':'IREmissivityBack',\n",
    "                'Dirt_Correction_Factor_for_Solar_and_Visible_Transmittance':'DirtFactor'}"
   ]
  },
  {
   "cell_type": "code",
   "execution_count": null,
   "metadata": {},
   "outputs": [],
   "source": [
    "GlazingMaterials = WindowMaterial_Glazing\n",
    "GlazingMaterials.rename(columns=column_rename, inplace=True)\n",
    "GlazingMaterials = GlazingMaterials.drop(['key', 'Solar_Diffusing'], axis=1)\n",
    "GlazingMaterials['Comment'] = 'default'\n",
    "GlazingMaterials['Cost'] = 0\n",
    "GlazingMaterials['DataSource'] = GlazingMaterials.pop('Archetype')\n",
    "GlazingMaterials['Density'] = 2500\n",
    "GlazingMaterials['EmbodiedCarbon'] = 0\n",
    "GlazingMaterials['EmbodiedCarbonStdDev'] = 0\n",
    "GlazingMaterials['EmbodiedEnergy'] = 0\n",
    "GlazingMaterials['EmbodiedEnergyStdDev'] = 0\n",
    "GlazingMaterials['Life'] = 1\n",
    "GlazingMaterials['SubstitutionRatePattern'] = np.NaN # ! Might have to change to an empty array\n",
    "GlazingMaterials['SubstitutionTimestep'] = 0\n",
    "GlazingMaterials['TransportCarbon'] = 0\n",
    "GlazingMaterials['TransportDistance'] = 0\n",
    "GlazingMaterials['TransportEnergy'] = 0\n",
    "GlazingMaterials['Type'] = 'Uncoated' # TODO Further investigation necessary"
   ]
  },
  {
   "cell_type": "code",
   "execution_count": null,
   "metadata": {
    "scrolled": false
   },
   "outputs": [],
   "source": [
    "GlazingMaterials.index = newrange(GasMaterials, GlazingMaterials)\n",
    "GlazingMaterials.index.rename('$id', inplace=True)\n",
    "GlazingMaterials"
   ]
  },
  {
   "cell_type": "markdown",
   "metadata": {},
   "source": [
    "#### WINDOWMATERIAL:SIMPLEGLAZINGSYSTEM"
   ]
  },
  {
   "cell_type": "code",
   "execution_count": null,
   "metadata": {},
   "outputs": [],
   "source": [
    "WindowMaterialsSimpleGlaze = pu.parse_idfs(idfs, 'WINDOWMATERIAL:SIMPLEGLAZINGSYSTEM', keys)"
   ]
  },
  {
   "cell_type": "code",
   "execution_count": null,
   "metadata": {
    "scrolled": true
   },
   "outputs": [],
   "source": [
    "SimpleGlazing = WindowMaterialsSimpleGlaze.apply(lambda row: pu.simple_glazing(row['Solar_Heat_Gain_Coefficient'], row['UFactor'], row['Visible_Transmittance']), axis=1).apply(pd.Series)\n",
    "SimpleGlazing.loc[:,'Name'] = WindowMaterialsSimpleGlaze['Name']\n",
    "SimpleGlazing.loc[:,'DataSource'] = 'EnergyPlus Simple Glazing Calculation'"
   ]
  },
  {
   "cell_type": "code",
   "execution_count": null,
   "metadata": {},
   "outputs": [],
   "source": [
    "SimpleGlazing"
   ]
  },
  {
   "cell_type": "code",
   "execution_count": null,
   "metadata": {},
   "outputs": [],
   "source": [
    "GlazingMaterials = GlazingMaterials.append(SimpleGlazing, ignore_index=True, sort=True)"
   ]
  },
  {
   "cell_type": "code",
   "execution_count": null,
   "metadata": {},
   "outputs": [],
   "source": [
    "GlazingMaterials"
   ]
  },
  {
   "cell_type": "code",
   "execution_count": null,
   "metadata": {},
   "outputs": [],
   "source": [
    "GlazingMaterials.index = newrange(GasMaterials, GlazingMaterials)\n",
    "GlazingMaterials.index.rename('$id', inplace=True)"
   ]
  },
  {
   "cell_type": "code",
   "execution_count": null,
   "metadata": {
    "scrolled": false
   },
   "outputs": [],
   "source": [
    "GlazingMaterials.iloc[14]"
   ]
  },
  {
   "cell_type": "markdown",
   "metadata": {},
   "source": [
    "## OpaqueMaterials"
   ]
  },
  {
   "cell_type": "code",
   "execution_count": null,
   "metadata": {
    "scrolled": false
   },
   "outputs": [],
   "source": [
    "# MASS\n",
    "MaterialsMass = pu.parse_idfs(idfs, 'MATERIAL', keys)\n",
    "MaterialsMass"
   ]
  },
  {
   "cell_type": "code",
   "execution_count": null,
   "metadata": {
    "scrolled": false
   },
   "outputs": [],
   "source": [
    "MaterialNoMass = pu.parse_idfs(idfs, 'MATERIAL:NOMASS', keys)\n",
    "MaterialNoMass"
   ]
  },
  {
   "cell_type": "code",
   "execution_count": null,
   "metadata": {
    "scrolled": true
   },
   "outputs": [],
   "source": [
    "OpaqueMaterials = pd.concat([MaterialsMass,MaterialNoMass], sort=True, ignore_index=True)\n",
    "OpaqueMaterials.index = newrange(GlazingMaterials, OpaqueMaterials)\n",
    "OpaqueMaterials.index.name = '$id'"
   ]
  },
  {
   "cell_type": "code",
   "execution_count": null,
   "metadata": {},
   "outputs": [],
   "source": [
    "column_rename = {'Solar_Absorptance':'SolarAbsorptance',\n",
    "                'Specific_Heat':'SpecificHeat', \n",
    "                'Thermal_Absorptance':'ThermalEmittance',\n",
    "                'Thermal_Resistance':'ThermalResistance',\n",
    "                'Visible_Absorptance':'VisibleAbsorptance'}"
   ]
  },
  {
   "cell_type": "code",
   "execution_count": null,
   "metadata": {},
   "outputs": [],
   "source": [
    "OpaqueMaterials.rename(columns=column_rename, inplace=True)"
   ]
  },
  {
   "cell_type": "code",
   "execution_count": null,
   "metadata": {},
   "outputs": [],
   "source": [
    "OpaqueMaterials['Comment'] = 'default'\n",
    "OpaqueMaterials['Cost'] = 0\n",
    "OpaqueMaterials['DataSource'] = OpaqueMaterials.pop('Archetype')\n",
    "OpaqueMaterials['EmbodiedCarbon'] = 0\n",
    "OpaqueMaterials['EmbodiedCarbonStdDev'] = 0\n",
    "OpaqueMaterials['EmbodiedEnergy'] = 0\n",
    "OpaqueMaterials['EmbodiedEnergyStdDev'] = 0\n",
    "OpaqueMaterials['Life'] = 1\n",
    "OpaqueMaterials['MoistureDiffusionResistance'] = 50\n",
    "OpaqueMaterials['PhaseChange'] = False\n",
    "OpaqueMaterials['PhaseChangeProperties'] = '' # ! Further investigation needed\n",
    "OpaqueMaterials['SubstitutionRatePattern'] = np.NaN # ! Might have to change to an empty array\n",
    "OpaqueMaterials['SubstitutionTimestep'] = 0\n",
    "OpaqueMaterials['TransportCarbon'] = 0\n",
    "OpaqueMaterials['TransportDistance'] = 0\n",
    "OpaqueMaterials['TransportEnergy'] = 0\n",
    "OpaqueMaterials['Type'] = '' # ! Further investigation necessary\n",
    "OpaqueMaterials['VariableConductivity'] = False\n",
    "OpaqueMaterials['VariableConductivityProperties'] = np.NaN # ! Further investigation necessary"
   ]
  },
  {
   "cell_type": "code",
   "execution_count": null,
   "metadata": {},
   "outputs": [],
   "source": [
    "OpaqueMaterials = OpaqueMaterials.drop(['key'], axis=1)"
   ]
  },
  {
   "cell_type": "code",
   "execution_count": null,
   "metadata": {},
   "outputs": [],
   "source": [
    "OpaqueMaterials"
   ]
  },
  {
   "cell_type": "markdown",
   "metadata": {},
   "source": [
    "## OpaqueConstructions"
   ]
  },
  {
   "cell_type": "code",
   "execution_count": null,
   "metadata": {},
   "outputs": [],
   "source": [
    "# Thermal Resistance : (m2-K)/W\n",
    "# Conductivity : W/(m-K)"
   ]
  },
  {
   "cell_type": "code",
   "execution_count": null,
   "metadata": {},
   "outputs": [],
   "source": [
    "Constructions = pu.parse_idfs(idfs, 'CONSTRUCTION', keys)"
   ]
  },
  {
   "cell_type": "code",
   "execution_count": null,
   "metadata": {},
   "outputs": [],
   "source": [
    "Constructions"
   ]
  },
  {
   "cell_type": "code",
   "execution_count": null,
   "metadata": {},
   "outputs": [],
   "source": [
    "OpaqueConstructions = pu.parse_idfs(idfs, 'BUILDINGSURFACE:DETAILED', keys)\n",
    "\n",
    "OpaqueConstructions = OpaqueConstructions.merge(Constructions, left_on='Construction_Name', right_on='Name')\n",
    "\n",
    "OpaqueConstructions = OpaqueConstructions.groupby('Construction_Name').first()\n",
    "OpaqueConstructions.reset_index(inplace=True)\n",
    "OpaqueConstructions"
   ]
  },
  {
   "cell_type": "code",
   "execution_count": null,
   "metadata": {},
   "outputs": [],
   "source": [
    "def label_surface(row):\n",
    "    \"\"\"\n",
    "    This function adds the umi-Category column\n",
    "    \"\"\"\n",
    "    # Floors\n",
    "    if row['Surface_Type'] == 'Floor':\n",
    "        if row['Outside_Boundary_Condition'] == 'Surface':\n",
    "            return 'Interior Floor'\n",
    "        if row['Outside_Boundary_Condition'] == 'Ground':\n",
    "            return 'Ground Floor'\n",
    "        if row['Outside_Boundary_Condition'] == 'Outdoors':\n",
    "            return 'Exterior Floor'\n",
    "        else:\n",
    "            return 'Other'\n",
    "        \n",
    "    # Roofs & Ceilings\n",
    "    if row['Surface_Type'] == 'Roof':\n",
    "        return 'Roof'\n",
    "    if row['Surface_Type'] == 'Ceiling':\n",
    "        return 'Interior Floor'\n",
    "    # Walls\n",
    "    if row['Surface_Type'] == 'Wall':\n",
    "        if row['Outside_Boundary_Condition'] == 'Surface':\n",
    "            return 'Partition'\n",
    "        if row['Outside_Boundary_Condition'] == 'Outdoors':\n",
    "            return 'Facade'\n",
    "    return 'Other'"
   ]
  },
  {
   "cell_type": "code",
   "execution_count": null,
   "metadata": {},
   "outputs": [],
   "source": [
    "def type_surface(row):\n",
    "    \"\"\"\n",
    "    This function adds the umi-Type column\n",
    "    \"\"\"\n",
    "    # Floors\n",
    "    if row['Surface_Type'] == 'Floor':\n",
    "        if row['Outside_Boundary_Condition'] == 'Surface':\n",
    "            return 3\n",
    "        if row['Outside_Boundary_Condition'] == 'Ground':\n",
    "            return 2\n",
    "        if row['Outside_Boundary_Condition'] == 'Outdoors':\n",
    "            return 4\n",
    "        else:\n",
    "            return np.NaN\n",
    "        \n",
    "    # Roofs & Ceilings\n",
    "    if row['Surface_Type'] == 'Roof':\n",
    "        return 1\n",
    "    if row['Surface_Type'] == 'Ceiling':\n",
    "        return 3\n",
    "    # Walls\n",
    "    if row['Surface_Type'] == 'Wall':\n",
    "        if row['Outside_Boundary_Condition'] == 'Surface':\n",
    "            return 5\n",
    "        if row['Outside_Boundary_Condition'] == 'Outdoors':\n",
    "            return 0\n",
    "    return np.NaN"
   ]
  },
  {
   "cell_type": "code",
   "execution_count": null,
   "metadata": {},
   "outputs": [],
   "source": [
    "OpaqueConstructions['Category'] = OpaqueConstructions.apply(lambda x: label_surface(x), axis=1)\n",
    "OpaqueConstructions['Type'] = OpaqueConstructions.apply(lambda x: type_surface(x), axis=1)"
   ]
  },
  {
   "cell_type": "code",
   "execution_count": null,
   "metadata": {},
   "outputs": [],
   "source": [
    "# Lets group by `Construction_Name` to get a list of unique `Surface_Type` and `Outside_Boundary_Condition`.\n",
    "\n",
    "OpaqueConstructions = OpaqueConstructions.groupby('Construction_Name').first().reset_index()\n",
    "OpaqueConstructions.head()"
   ]
  },
  {
   "cell_type": "code",
   "execution_count": null,
   "metadata": {},
   "outputs": [],
   "source": [
    "def layer_composition(row, df):\n",
    "    # Assumes 10 max layers\n",
    "    layers = []\n",
    "    \n",
    "    # Let's start with the `Outside_Layer`\n",
    "    ref, thickness = get_row_prop(row, df, 'Outside_Layer', 'Thickness')\n",
    "    if thickness:\n",
    "        layers.append({'Material':{'$ref':ref,'thickness':thickness}})\n",
    "    else:\n",
    "        thickness = 0.001 # Very small tickness\n",
    "        layers.append({'Material':{'$ref':ref,'thickness':thickness}})\n",
    "    # Then we iterate over the other layers. The number of layers is unknow. Limited to 10 for now\n",
    "    for i in range(1,10):\n",
    "        try:\n",
    "            layer_name = 'Layer_{}'.format(i)\n",
    "            ref, thickness = get_row_prop(row, df, layer_name, 'Thickness')\n",
    "            if thickness:\n",
    "                layers.append({'Material':{'$ref':ref,'thickness':thickness}})\n",
    "            else:\n",
    "                thickness = 0.001 # Very small tickness\n",
    "                layers.append({'Material':{'$ref':ref,'thickness':thickness}})\n",
    "        except:\n",
    "            pass #\n",
    "    return layers"
   ]
  },
  {
   "cell_type": "code",
   "execution_count": null,
   "metadata": {},
   "outputs": [],
   "source": [
    "def get_row_prop(row, df, column_name, prop):\n",
    "    layer = df.loc[df['Name'] == row[column_name]]\n",
    "    ref = layer.index[0]\n",
    "    prop = layer[prop].values[0] # Very small tickness\n",
    "    return ref, prop"
   ]
  },
  {
   "cell_type": "code",
   "execution_count": null,
   "metadata": {
    "scrolled": false
   },
   "outputs": [],
   "source": [
    "OpaqueConstructions['Layers'] = OpaqueConstructions.apply(lambda x: layer_composition(x, OpaqueMaterials), axis=1)"
   ]
  },
  {
   "cell_type": "code",
   "execution_count": null,
   "metadata": {},
   "outputs": [],
   "source": [
    "OpaqueConstructions['AssemblyCarbon'] = 0\n",
    "OpaqueConstructions['AssemblyCost'] = 0\n",
    "OpaqueConstructions['AssemblyEnergy'] = 0\n",
    "OpaqueConstructions['Comments'] = 'default'\n",
    "OpaqueConstructions['DataSource'] = OpaqueConstructions.pop('Archetype_x')\n",
    "OpaqueConstructions['DisassemblyCarbon'] = 0\n",
    "OpaqueConstructions['DisassemblyEnergy'] = 0"
   ]
  },
  {
   "cell_type": "code",
   "execution_count": null,
   "metadata": {},
   "outputs": [],
   "source": [
    "columns = ['Construction_Name', 'Category', 'Layers', 'Type']\n",
    "\n",
    "OpaqueConstructions = OpaqueConstructions[columns]\n",
    "\n",
    "OpaqueConstructions = OpaqueConstructions.rename(columns={'Construction_Name':'Name'})"
   ]
  },
  {
   "cell_type": "code",
   "execution_count": null,
   "metadata": {},
   "outputs": [],
   "source": [
    "OpaqueConstructions.index = newrange(OpaqueMaterials,OpaqueConstructions)\n",
    "OpaqueConstructions.index.name = '$id'"
   ]
  },
  {
   "cell_type": "code",
   "execution_count": null,
   "metadata": {
    "scrolled": false
   },
   "outputs": [],
   "source": [
    "OpaqueConstructions"
   ]
  },
  {
   "cell_type": "markdown",
   "metadata": {},
   "source": [
    "# WindowConstructions"
   ]
  },
  {
   "cell_type": "code",
   "execution_count": null,
   "metadata": {},
   "outputs": [],
   "source": [
    "WindowConstructions = pu.parse_idfs(idfs, 'FENESTRATIONSURFACE:DETAILED', keys)\n",
    "WindowConstructions = WindowConstructions.merge(Constructions, left_on='Construction_Name', right_on='Name')\n",
    "WindowConstructions = WindowConstructions.groupby('Construction_Name', as_index=False).first()\n",
    "WindowConstructions.index = newrange(OpaqueConstructions, WindowConstructions)\n",
    "WindowConstructions.index.name = '$id'\n",
    "WindowConstructions = WindowConstructions[['Construction_Name', 'Archetype_x', 'Outside_Layer']]"
   ]
  },
  {
   "cell_type": "code",
   "execution_count": null,
   "metadata": {},
   "outputs": [],
   "source": [
    "WindowConstructions.loc[:,'AssemblyCarbon'] = 0\n",
    "WindowConstructions.loc[:,'AssemblyCost'] = 0\n",
    "WindowConstructions.loc[:,'AssemblyEnergy'] = 0\n",
    "WindowConstructions.loc[:,'Category'] = 'Single'\n",
    "WindowConstructions.loc[:,'Type'] = 2\n",
    "WindowConstructions.loc[:,'Comments'] = 'default'\n",
    "WindowConstructions.loc[:,'DataSource'] = WindowConstructions.pop('Archetype_x')\n",
    "WindowConstructions.loc[:,'DisassemblyCarbon'] = 0\n",
    "WindowConstructions.loc[:,'DisassemblyEnergy'] = 0"
   ]
  },
  {
   "cell_type": "code",
   "execution_count": null,
   "metadata": {},
   "outputs": [],
   "source": [
    "WindowConstructions['Layers'] = WindowConstructions.apply(lambda x: layer_composition(x, GlazingMaterials), axis=1)"
   ]
  },
  {
   "cell_type": "code",
   "execution_count": null,
   "metadata": {},
   "outputs": [],
   "source": [
    "WindowConstructions.rename(columns={'Construction_Name':'Name'}, inplace=True)"
   ]
  },
  {
   "cell_type": "code",
   "execution_count": null,
   "metadata": {},
   "outputs": [],
   "source": [
    "WindowConstructions.drop(columns=['Outside_Layer'], inplace=True)"
   ]
  },
  {
   "cell_type": "code",
   "execution_count": null,
   "metadata": {},
   "outputs": [],
   "source": [
    "WindowConstructions"
   ]
  },
  {
   "cell_type": "markdown",
   "metadata": {},
   "source": [
    "# DaySchedules"
   ]
  },
  {
   "cell_type": "code",
   "execution_count": null,
   "metadata": {},
   "outputs": [],
   "source": [
    "from datetime import datetime, timedelta"
   ]
  },
  {
   "cell_type": "code",
   "execution_count": null,
   "metadata": {},
   "outputs": [],
   "source": [
    "DaySchedules = pu.parse_idfs(idfs, 'SCHEDULE:DAY:INTERVAL', keys)\n",
    "DaySchedules.index = newrange(WindowConstructions, DaySchedules)\n",
    "DaySchedules.index.name = '$id'"
   ]
  },
  {
   "cell_type": "code",
   "execution_count": null,
   "metadata": {},
   "outputs": [],
   "source": [
    "DaySchedules"
   ]
  },
  {
   "cell_type": "code",
   "execution_count": null,
   "metadata": {},
   "outputs": [],
   "source": [
    "def my_to_datetime(date_str):\n",
    "    if date_str[0:2] != '24':\n",
    "        return datetime.strptime(date_str, '%H:%M') - timedelta(hours=1)\n",
    "    return datetime.strptime('23:00', '%H:%M')"
   ]
  },
  {
   "cell_type": "code",
   "execution_count": null,
   "metadata": {},
   "outputs": [],
   "source": [
    "def time2time(row):\n",
    "    time_seg = []\n",
    "    for i in range(1,25):\n",
    "        time = row['Time_{}'.format(i)] # Time_i\n",
    "        value = row['Value_Until_Time_{}'.format(i)] # Value_Until_Time_i\n",
    "        if str(time) != 'nan' and str(value) != 'nan':\n",
    "#             print(time)\n",
    "            time = my_to_datetime(time).hour\n",
    "#             print(time)\n",
    "            times = np.ones(time+1) * float(value)\n",
    "            time_seg.append(times)\n",
    "    arrays = time_seg\n",
    "    array = time_seg[0]\n",
    "    length = len(arrays[0])\n",
    "    for i, a in enumerate(arrays):\n",
    "        if i != 0:\n",
    "            array = np.append(array, a[length-1:-1])\n",
    "            length = len(a)\n",
    "    return array"
   ]
  },
  {
   "cell_type": "code",
   "execution_count": null,
   "metadata": {},
   "outputs": [],
   "source": [
    "DaySchedules['Values'] = DaySchedules.apply(lambda x: time2time(x), axis=1)"
   ]
  },
  {
   "cell_type": "code",
   "execution_count": null,
   "metadata": {},
   "outputs": [],
   "source": [
    "DaySchedules = DaySchedules.loc[:,['Name', 'Values']]\n",
    "DaySchedules.loc[:,'Category'] = 'Day'\n",
    "DaySchedules.loc[:,'Comments'] = 'Comments'\n",
    "DaySchedules.loc[:,'DataSource'] = 'default'\n",
    "DaySchedules.loc[:,'Type'] = 'Fraction'\n",
    "DaySchedules"
   ]
  },
  {
   "cell_type": "code",
   "execution_count": null,
   "metadata": {},
   "outputs": [],
   "source": [
    "%matplotlib inline\n",
    "import matplotlib.pyplot as plt"
   ]
  },
  {
   "cell_type": "code",
   "execution_count": null,
   "metadata": {},
   "outputs": [],
   "source": [
    "# Plotting the schedules\n",
    "for aid, grp in DaySchedules.groupby(['Name']):\n",
    "    plt.plot(grp['Values'].values[0]) "
   ]
  },
  {
   "cell_type": "markdown",
   "metadata": {},
   "source": [
    "# WeekSchedule"
   ]
  },
  {
   "cell_type": "code",
   "execution_count": null,
   "metadata": {},
   "outputs": [],
   "source": [
    "WeekSchedules = pu.parse_idfs(idfs, 'SCHEDULE:WEEK:DAILY', keys)"
   ]
  },
  {
   "cell_type": "code",
   "execution_count": null,
   "metadata": {},
   "outputs": [],
   "source": [
    "def schedule_composition(row, df):\n",
    "    # Assumes 7 days\n",
    "    day_schedules = []\n",
    "    days = ['Monday_ScheduleDay_Name',\n",
    "           'Tuesday_ScheduleDay_Name',\n",
    "           'Wednesday_ScheduleDay_Name',\n",
    "           'Thursday_ScheduleDay_Name',\n",
    "           'Friday_ScheduleDay_Name',\n",
    "           'Saturday_ScheduleDay_Name',\n",
    "           'Sunday_ScheduleDay_Name'] # With weekends last (as defined in umi-template)\n",
    "    # Let's start with the `Outside_Layer`\n",
    "    for day in days:\n",
    "        try:\n",
    "            ref, day_schedule = get_row_prop(row, df, day, 'Values')\n",
    "            day_schedules.append({'$ref':ref})\n",
    "        except:\n",
    "            pass\n",
    "    return day_schedules"
   ]
  },
  {
   "cell_type": "code",
   "execution_count": null,
   "metadata": {},
   "outputs": [],
   "source": [
    "WeekSchedules['Values'] = WeekSchedules.apply(lambda x: schedule_composition(x, DaySchedules), axis=1)"
   ]
  },
  {
   "cell_type": "code",
   "execution_count": null,
   "metadata": {
    "scrolled": true
   },
   "outputs": [],
   "source": [
    "WeekSchedules = WeekSchedules.loc[:,['Name','Values','Archetype']]\n",
    "WeekSchedules.loc[:,'Category'] = 'Week'\n",
    "WeekSchedules.loc[:,'Comments'] = 'default'\n",
    "WeekSchedules.loc[:,'DataSource'] = WeekSchedules.pop('Archetype')\n",
    "WeekSchedules.loc[:,'Type'] = 'Fraction'"
   ]
  },
  {
   "cell_type": "code",
   "execution_count": null,
   "metadata": {
    "scrolled": false
   },
   "outputs": [],
   "source": [
    "WeekSchedules.index = newrange(DaySchedules, WeekSchedules)\n",
    "WeekSchedules.index.name = '$id'\n",
    "WeekSchedules"
   ]
  },
  {
   "cell_type": "markdown",
   "metadata": {},
   "source": [
    "# YearSchedules"
   ]
  },
  {
   "cell_type": "code",
   "execution_count": null,
   "metadata": {},
   "outputs": [],
   "source": [
    "YearSchedules = pu.parse_idfs(idfs, 'SCHEDULE:YEAR', keys)"
   ]
  },
  {
   "cell_type": "code",
   "execution_count": null,
   "metadata": {},
   "outputs": [],
   "source": [
    "def year_parts(row, df):\n",
    "    ref, prop = get_row_prop(row, df, 'ScheduleWeek_Name_1', 'Name')\n",
    "    fromday = row['Start_Day_1']\n",
    "    frommonth = row['Start_Month_1']\n",
    "    today = row['End_Day_1']\n",
    "    tomonth = row['End_Month_1']\n",
    "    parts = {'FromDay': fromday,\n",
    "             'FromMonth': frommonth,\n",
    "             'Schedule': {'$ref': ref},\n",
    "             'ToDay': today,\n",
    "             'ToMonth': tomonth}\n",
    "    return parts"
   ]
  },
  {
   "cell_type": "code",
   "execution_count": null,
   "metadata": {
    "scrolled": true
   },
   "outputs": [],
   "source": [
    "YearSchedules['Parts'] = YearSchedules.apply(lambda x: year_parts(x, WeekSchedules), axis=1)"
   ]
  },
  {
   "cell_type": "code",
   "execution_count": null,
   "metadata": {
    "scrolled": false
   },
   "outputs": [],
   "source": [
    "YearSchedules = YearSchedules[['Name', 'Schedule_Type_Limits_Name','Parts','Archetype']]\n",
    "\n",
    "YearSchedules['Category'] = 'Year'\n",
    "YearSchedules['Comments'] = 'default'\n",
    "YearSchedules['DataSource'] = YearSchedules.pop('Archetype')\n",
    "\n",
    "YearSchedules.index = newrange(WeekSchedules, YearSchedules)\n",
    "YearSchedules.index.name = '$id'\n",
    "YearSchedules"
   ]
  },
  {
   "cell_type": "markdown",
   "metadata": {},
   "source": [
    "# Start of json READ"
   ]
  },
  {
   "cell_type": "markdown",
   "metadata": {},
   "source": [
    "At this point, the needed information is easier to acces in the `qacq` files (json format)"
   ]
  },
  {
   "cell_type": "code",
   "execution_count": null,
   "metadata": {},
   "outputs": [],
   "source": [
    "import json"
   ]
  },
  {
   "cell_type": "code",
   "execution_count": null,
   "metadata": {},
   "outputs": [],
   "source": [
    "files = glob.glob(\"data/necb/NECB_2011_Montreal/*.json\")"
   ]
  },
  {
   "cell_type": "code",
   "execution_count": null,
   "metadata": {
    "scrolled": true
   },
   "outputs": [],
   "source": [
    "# Reading the json as a dict\n",
    "qaqcs = []\n",
    "for file in files:\n",
    "    with open(file) as json_data:\n",
    "        qaqcs.append(json.load(json_data))\n",
    "\n",
    "all_qaqcs = {}\n",
    "for qaqc in qaqcs:\n",
    "    qaqc_dfs = {}\n",
    "    name = qaqc['building']['name']\n",
    "    for key in qaqc.keys():\n",
    "        if isinstance(qaqc[key], dict):\n",
    "            try:\n",
    "                qaqc_dfs[key] = pd.DataFrame.from_dict(qaqc[key])\n",
    "            except Exception as inst:\n",
    "                qaqc_dfs[key] = pd.DataFrame.from_dict([qaqc[key]])\n",
    "        elif isinstance(qaqc[key], list):\n",
    "            qaqc_dfs[key] = pd.DataFrame.from_dict(qaqc[key])\n",
    "        else:\n",
    "            qaqc_dfs[key] = qaqc[key]\n",
    "    all_qaqcs[name] = qaqc_dfs"
   ]
  },
  {
   "cell_type": "markdown",
   "metadata": {},
   "source": [
    "# Zones"
   ]
  },
  {
   "cell_type": "markdown",
   "metadata": {},
   "source": [
    "Zones can be identified by the term `horzontal_placement` (north, south, east, west, core) in the NECB building definition [https://github.com/NREL/OpenStudio-Prototype-Buildings/blob/master/lib/btap/measures/btap_equest_converter/compliance.rb]"
   ]
  },
  {
   "cell_type": "code",
   "execution_count": null,
   "metadata": {},
   "outputs": [],
   "source": [
    "def iscore(row):\n",
    "    \"\"\"\n",
    "    Helps to group by core and perimeter zones\n",
    "    \"\"\"\n",
    "    if 'core' in row['thermal_zone'].lower(): # We look for the string `core` in the Zone_Name\n",
    "        return 'Core'\n",
    "    else:\n",
    "        return 'Perimeter'"
   ]
  },
  {
   "cell_type": "code",
   "execution_count": null,
   "metadata": {},
   "outputs": [],
   "source": [
    "Zones = []\n",
    "for qaqc in all_qaqcs.values():\n",
    "    Zone = qaqc['spaces']\n",
    "    Zones.append(Zone)\n",
    "Zones = pd.concat(Zones, keys=all_qaqcs.keys(), names=['Archetype','$id'], sort=True)\n",
    "Zones['Space_Type'] = Zones.apply(lambda x: iscore(x), axis=1)"
   ]
  },
  {
   "cell_type": "code",
   "execution_count": null,
   "metadata": {},
   "outputs": [],
   "source": [
    "def ach(row):\n",
    "    \"\"\"\n",
    "    Calculates Air changes per hour (ACH)\n",
    "    \"\"\"\n",
    "    q = row['infiltration_flow_m3_per_s']\n",
    "    V = row['volume']\n",
    "    if q > 0:\n",
    "        return 3600 * q / V\n",
    "    return np.NaN"
   ]
  },
  {
   "cell_type": "code",
   "execution_count": null,
   "metadata": {},
   "outputs": [],
   "source": [
    "# Calculating the infiltration flow by use of the area-infiltration flow times the exterior wall area\n",
    "Zones['infiltration_flow_m3_per_s'] = Zones['infiltration_flow_per_m2'] * Zones['exterior_wall_area']"
   ]
  },
  {
   "cell_type": "code",
   "execution_count": null,
   "metadata": {},
   "outputs": [],
   "source": [
    "Zones['air_changes_per_hour'] = Zones.apply(lambda x: ach(x), axis=1)"
   ]
  },
  {
   "cell_type": "code",
   "execution_count": null,
   "metadata": {},
   "outputs": [],
   "source": [
    "# Let's add the space area\n",
    "\n",
    "spacetype_area_breakdown = []\n",
    "for qaqc in all_qaqcs.values():\n",
    "    area = qaqc['spacetype_area_breakdown'].T.rename(columns={0:'Space_Area'})\n",
    "    spacetype_area_breakdown.append(area)\n",
    "spacetype_area_breakdown = pd.concat(spacetype_area_breakdown, axis=0, keys=all_qaqcs.keys(), names=['Archetype','space_type_name'], sort=True)"
   ]
  },
  {
   "cell_type": "code",
   "execution_count": null,
   "metadata": {},
   "outputs": [],
   "source": [
    "Zones['space_type_name'] = Zones['space_type_name'].str.replace(' ','_').str.lower()"
   ]
  },
  {
   "cell_type": "code",
   "execution_count": null,
   "metadata": {},
   "outputs": [],
   "source": [
    "Zones = Zones.reset_index().set_index(['Archetype','space_type_name']).merge(spacetype_area_breakdown, left_index=True, right_index=True, how='left')\n",
    "Zones = Zones.reset_index().set_index(['Archetype','$id'])"
   ]
  },
  {
   "cell_type": "code",
   "execution_count": null,
   "metadata": {},
   "outputs": [],
   "source": [
    "Zones"
   ]
  },
  {
   "cell_type": "code",
   "execution_count": null,
   "metadata": {},
   "outputs": [],
   "source": [
    "# Let's add the `waterUseEquipment` as columns instead of the object they are in the DataFrame.\n",
    "# To do this, we merge a new dataframe that is created with the apply(pd.Series) function. This transforms\n",
    "# the dict stucture of each rows into the different columns. We apply the Pd.Series fucntion twice because\n",
    "# the dicts are inside a list.\n",
    "\n",
    "Zones = Zones.join(Zones['waterUseEquipment'].apply(pd.Series)[0].apply(pd.Series), sort=True)"
   ]
  },
  {
   "cell_type": "code",
   "execution_count": null,
   "metadata": {},
   "outputs": [],
   "source": [
    "Zones"
   ]
  },
  {
   "cell_type": "code",
   "execution_count": null,
   "metadata": {},
   "outputs": [],
   "source": [
    "def weighted_mean(series):\n",
    "    \"\"\"\n",
    "    Evaluates a weighteed average while ignoring NaNs\n",
    "    \"\"\"\n",
    "    index = ~np.isnan(series)\n",
    "    if np.any(index):\n",
    "        weights=Zones.loc[series.index, 'volume'] * Zones.loc[series.index, 'multiplier']\n",
    "        weights=weights[index]\n",
    "        a = series[index]\n",
    "        return np.average(a, weights=weights)\n",
    "    return 0"
   ]
  },
  {
   "cell_type": "code",
   "execution_count": null,
   "metadata": {},
   "outputs": [],
   "source": [
    "f"
   ]
  },
  {
   "cell_type": "code",
   "execution_count": null,
   "metadata": {
    "scrolled": true
   },
   "outputs": [],
   "source": [
    "# Define a lambda function to compute the weighted mean:\n",
    "# wm = lambda x: np.average(~np.isnan(x), weights=(Zones.loc[x.index, 'volume'] * Zones.loc[x.index, 'multiplier'])[~np.isnan(x)])\n",
    "wu = lambda x: x.apply(pd.Series)\n",
    "# Define a dictionary with the functions to apply for a given column:\n",
    "f = {'air_changes_per_hour': {'weighted_mean' : weighted_mean},\n",
    "     'occ_per_m2' : {'weighted_mean' : weighted_mean},\n",
    "     'breathing_zone_outdoor_airflow_vbz' : {'weighted_mean' : weighted_mean},\n",
    "     'electric_w_per_m2' : {'weighted_mean' : weighted_mean},\n",
    "     'lighting_w_per_m2' : {'weighted_mean' : weighted_mean},\n",
    "     'peak_flow_rate_per_area' : {'weighted_mean' : weighted_mean},\n",
    "     'Space_Area' : {'sum' : 'sum'}\n",
    "    }\n",
    "\n",
    "# Groupby and aggregate with your dictionary:\n",
    "ZonesByType = Zones.groupby(['Archetype','Space_Type'], sort=True).agg(f).reset_index()\n",
    "ZonesByType['FlowRatePerFloorArea'] = ZonesByType['peak_flow_rate_per_area'] * 36000 # m3/s/m2 to m3/h/m2\n",
    "ZonesByType"
   ]
  },
  {
   "cell_type": "markdown",
   "metadata": {},
   "source": [
    "# DomesticHotWaterSettings"
   ]
  },
  {
   "cell_type": "code",
   "execution_count": null,
   "metadata": {
    "scrolled": true
   },
   "outputs": [],
   "source": [
    "# Category\n",
    "# DataSource\n",
    "# FlowRatePerFloorArea\n",
    "# IsOn\n",
    "# Name\n",
    "# WaterSchedule.$ref - Source: Probably in idf file\n",
    "# WaterSupplyTemperature\n",
    "# WaterTemperatureInlet - Source: Probably in idf file\n",
    "DomesticHotWaterSettingsColumns = ['Category', 'DataSource', 'FlowRatePerFloorArea', 'IsOn', 'Name',\n",
    "       'WaterSchedule.$ref', 'WaterSupplyTemperature', 'WaterTemperatureInlet']\n",
    "# Creating a DataFrame\n",
    "\n",
    "possibleSchedules = DaySchedules[DaySchedules.Name.str.contains('Service Water Loop Temp', case=False)]\n",
    "\n",
    "# WaterSchedule.$ref\n",
    "WaterSchedule_ref = YearSchedules[YearSchedules.Name.str.contains('Service Water Loop Temp', case=False)].index\n",
    "\n",
    "# WaterSupplyTemperature\n",
    "waterschedule = DaySchedules.reset_index().set_index('Name').loc[possibleSchedules.Name.values,:]\n",
    "WaterSupplyTemperature = waterschedule.Values.mean().mean() # the first mean() averages possible multiple schedules, the second mean(gets the value\n",
    "\n",
    "# WaterTemperatureInlet - Source: Probably in idf file\n",
    "WaterTemperatureInlet = 8.0 # ! This needs to be investigated\n",
    "\n",
    "DomesticHotWaterSettings = ZonesByType.loc[:,['Archetype', 'Space_Type','FlowRatePerFloorArea']]\n",
    "DomesticHotWaterSettings.loc[:,'Category'] = DomesticHotWaterSettings['Space_Type']\n",
    "DomesticHotWaterSettings.loc[:,'IsOn'] = DomesticHotWaterSettings.apply(lambda x: x['FlowRatePerFloorArea'] > 0, axis=1)\n",
    "DomesticHotWaterSettings.loc[:,'Name'] = DomesticHotWaterSettings['Archetype'] + '_' + DomesticHotWaterSettings['Space_Type']\n",
    "DomesticHotWaterSettings.loc[:,'DataSource'] = DomesticHotWaterSettings['Archetype']\n",
    "DomesticHotWaterSettings.loc[:,'WaterSchedule.$ref'] = WaterSchedule_ref.values[0]\n",
    "DomesticHotWaterSettings.loc[:,'WaterSupplyTemperature'] = WaterSupplyTemperature\n",
    "DomesticHotWaterSettings.loc[:,'WaterTemperatureInlet'] = WaterTemperatureInlet\n",
    "DomesticHotWaterSettings.index = newrange(YearSchedules, DomesticHotWaterSettings)\n",
    "DomesticHotWaterSettings.index.name = '$id'\n",
    "DomesticHotWaterSettings = DomesticHotWaterSettings[DomesticHotWaterSettingsColumns]"
   ]
  },
  {
   "cell_type": "code",
   "execution_count": null,
   "metadata": {},
   "outputs": [],
   "source": [
    "DomesticHotWaterSettings"
   ]
  },
  {
   "cell_type": "markdown",
   "metadata": {},
   "source": [
    "# VentilationSettings"
   ]
  },
  {
   "cell_type": "code",
   "execution_count": null,
   "metadata": {},
   "outputs": [],
   "source": [
    "# 'Afn',\n",
    "# 'Category',\n",
    "# 'DataSource',\n",
    "# 'Infiltration',\n",
    "# 'IsBuoyancyOn',\n",
    "# 'IsInfiltrationOn',\n",
    "# 'IsNatVentOn',\n",
    "# 'IsScheduledVentilationOn',\n",
    "# 'IsWindOn',\n",
    "# 'Name',\n",
    "# 'NatVentMaxOutdoorAirTemp',\n",
    "# 'NatVentMaxRelHumidity',\n",
    "# 'NatVentMinOutdoorAirTemp',\n",
    "# 'NatVentSchedule.$ref',\n",
    "# 'NatVentZoneTempSetpoint',\n",
    "# 'ScheduledVentilationAch',\n",
    "# 'ScheduledVentilationSchedule.$ref',\n",
    "# 'ScheduledVentilationSetpoint'\n",
    "\n",
    "VentilationSettingsSettingsColumns = ['Afn', 'Category', 'DataSource', 'Infiltration', 'IsBuoyancyOn',\n",
    "       'IsInfiltrationOn', 'IsNatVentOn', 'IsScheduledVentilationOn',\n",
    "       'IsWindOn', 'Name', 'NatVentMaxOutdoorAirTemp', 'NatVentMaxRelHumidity',\n",
    "       'NatVentMinOutdoorAirTemp', 'NatVentSchedule.$ref',\n",
    "       'NatVentZoneTempSetpoint', 'ScheduledVentilationAch',\n",
    "       'ScheduledVentilationSchedule.$ref', 'ScheduledVentilationSetpoint']"
   ]
  },
  {
   "cell_type": "code",
   "execution_count": null,
   "metadata": {},
   "outputs": [],
   "source": [
    "VentilationSettings = ZonesByType.loc[:,['Archetype', 'Space_Type']]"
   ]
  },
  {
   "cell_type": "code",
   "execution_count": null,
   "metadata": {},
   "outputs": [],
   "source": [
    "VentilationSettings.loc[:,'Infiltration'] = ZonesByType.loc[:,'air_changes_per_hour'].values\n",
    "VentilationSettings.loc[:,'IsBuoyancyOn'] = True\n",
    "VentilationSettings['IsInfiltrationOn'] = VentilationSettings.apply(lambda x: x['Infiltration'] > 0, axis=1)\n",
    "VentilationSettings.loc[:,'IsNatVentOn'] = False\n",
    "VentilationSettings.loc[:,'IsScheduledVentilationOn'] = False\n",
    "VentilationSettings.loc[:,'IsWindOn'] = False\n",
    "VentilationSettings.loc[:,'Name'] = VentilationSettings.loc[:,'Archetype'] + '_' + VentilationSettings.loc[:,'Space_Type']\n",
    "VentilationSettings.loc[:,'NatVentMaxOutdoorAirTemp'] = 26.0\n",
    "VentilationSettings.loc[:,'NatVentMaxRelHumidity'] = 80.0\n",
    "VentilationSettings.loc[:,'NatVentMinOutdoorAirTemp'] = 18.0\n",
    "VentilationSettings.index = newrange(DomesticHotWaterSettings, VentilationSettings)\n",
    "VentilationSettings.index.name = '$id'"
   ]
  },
  {
   "cell_type": "code",
   "execution_count": null,
   "metadata": {
    "scrolled": true
   },
   "outputs": [],
   "source": [
    "VentilationSettings"
   ]
  },
  {
   "cell_type": "markdown",
   "metadata": {
    "scrolled": true
   },
   "source": [
    "# ZoneConditionings"
   ]
  },
  {
   "cell_type": "code",
   "execution_count": null,
   "metadata": {},
   "outputs": [],
   "source": [
    "ZoneConditionings = ZonesByType.loc[:,['Archetype', 'Space_Type']]"
   ]
  },
  {
   "cell_type": "code",
   "execution_count": null,
   "metadata": {},
   "outputs": [],
   "source": [
    "ZoneConditionings"
   ]
  },
  {
   "cell_type": "code",
   "execution_count": null,
   "metadata": {},
   "outputs": [],
   "source": [
    "AirLoops = []\n",
    "for qaqc in all_qaqcs.values():\n",
    "    AirLoop = qaqc['air_loops']\n",
    "    AirLoops.append(AirLoop)\n",
    "AirLoops = pd.concat(AirLoops, keys=all_qaqcs.keys(), names=['Archetype','$id'], sort=True)"
   ]
  },
  {
   "cell_type": "code",
   "execution_count": null,
   "metadata": {},
   "outputs": [],
   "source": [
    "AirLoops = AirLoops.join(AirLoops['cooling_coils'].apply(pd.Series).apply(pd.Series),sort=True)\n",
    "AirLoops = AirLoops.join(AirLoops['dx_single_speed'].apply(pd.Series)[0].apply(pd.Series), sort=True, rsuffix='_cooling')"
   ]
  },
  {
   "cell_type": "code",
   "execution_count": null,
   "metadata": {
    "scrolled": true
   },
   "outputs": [],
   "source": [
    "AirLoops = AirLoops.join(AirLoops['economizer'].apply(pd.Series).apply(pd.Series),sort=True, rsuffix='_econ')"
   ]
  },
  {
   "cell_type": "code",
   "execution_count": null,
   "metadata": {},
   "outputs": [],
   "source": [
    "AirLoops = AirLoops.join(AirLoops['heating_coils'].apply(pd.Series)['coil_heating_electric'].apply(pd.Series)[0].apply(pd.Series), rsuffix='_heating_coil', sort=True)\n",
    "AirLoops"
   ]
  },
  {
   "cell_type": "code",
   "execution_count": null,
   "metadata": {},
   "outputs": [],
   "source": [
    "AirLoops = AirLoops.join(AirLoops['supply_fan'].apply(pd.Series), rsuffix='_supply_fan', sort=True)"
   ]
  },
  {
   "cell_type": "code",
   "execution_count": null,
   "metadata": {},
   "outputs": [],
   "source": [
    "AirLoops.iloc[0]"
   ]
  },
  {
   "cell_type": "code",
   "execution_count": null,
   "metadata": {
    "scrolled": true
   },
   "outputs": [],
   "source": [
    "ZoneConditionings"
   ]
  },
  {
   "cell_type": "code",
   "execution_count": null,
   "metadata": {},
   "outputs": [],
   "source": [
    "Zones.thermal_zone.apply(pd.Series).stack().reset_index(level=2,drop=True).to_frame('thermal_zones')"
   ]
  },
  {
   "cell_type": "code",
   "execution_count": null,
   "metadata": {},
   "outputs": [],
   "source": []
  },
  {
   "cell_type": "code",
   "execution_count": null,
   "metadata": {},
   "outputs": [],
   "source": [
    "AirLoops.thermal_zone.apply(pd.Series).reset_index().head()"
   ]
  },
  {
   "cell_type": "code",
   "execution_count": null,
   "metadata": {},
   "outputs": [],
   "source": [
    "pd.melt(AirLoops.thermal_zones.apply(pd.Series).reset_index(), \n",
    "             id_vars=['Archetype', '$id'],\n",
    "             value_name='thermal_zone')"
   ]
  },
  {
   "cell_type": "code",
   "execution_count": null,
   "metadata": {},
   "outputs": [],
   "source": [
    "AirLoops = AirLoops.reset_index().set_index(['Archetype', '$id','cop'])"
   ]
  },
  {
   "cell_type": "code",
   "execution_count": null,
   "metadata": {},
   "outputs": [],
   "source": [
    "AirLoops"
   ]
  },
  {
   "cell_type": "code",
   "execution_count": null,
   "metadata": {},
   "outputs": [],
   "source": [
    "(pd.melt(AirLoops.thermal_zones.apply(pd.Series).reset_index(), \n",
    "             id_vars=['Archetype', '$id','cop'],\n",
    "             value_name='thermal_zone')\n",
    "     .set_index(['Archetype', '$id'])\n",
    "     .drop('variable', axis=1)\n",
    "     .dropna()\n",
    "     .sort_index())"
   ]
  },
  {
   "cell_type": "code",
   "execution_count": null,
   "metadata": {},
   "outputs": [],
   "source": []
  }
 ],
 "metadata": {
  "kernelspec": {
   "display_name": "Python 3",
   "language": "python",
   "name": "python3"
  },
  "language_info": {
   "codemirror_mode": {
    "name": "ipython",
    "version": 3
   },
   "file_extension": ".py",
   "mimetype": "text/x-python",
   "name": "python",
   "nbconvert_exporter": "python",
   "pygments_lexer": "ipython3",
   "version": "3.6.3"
  }
 },
 "nbformat": 4,
 "nbformat_minor": 2
}
